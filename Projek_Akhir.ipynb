{
  "cells": [
    {
      "cell_type": "markdown",
      "id": "d19da709",
      "metadata": {
        "_cell_guid": "b1076dfc-b9ad-4769-8c92-a6c4dae69d19",
        "_uuid": "8f2839f25d086af736a60e9eeb907d3b93b6e0e5",
        "papermill": {
          "duration": 0.064539,
          "end_time": "2021-08-06T11:18:51.387932",
          "exception": false,
          "start_time": "2021-08-06T11:18:51.323393",
          "status": "completed"
        },
        "tags": [],
        "id": "d19da709"
      },
      "source": [
        "# Supermarket Sales Prediction\n"
      ]
    },
    {
      "cell_type": "markdown",
      "id": "d62483c4",
      "metadata": {
        "papermill": {
          "duration": 0.061114,
          "end_time": "2021-08-06T11:18:51.635007",
          "exception": false,
          "start_time": "2021-08-06T11:18:51.573893",
          "status": "completed"
        },
        "tags": [],
        "id": "d62483c4"
      },
      "source": [
        "**penjualan supermarket di kota-kota yang memiliki penduduk yang padat semakin meningkat dan persaingan pasar juga tinggi. Dataset adalah salah satu sejarah penjualan perusahaan supermarket.**"
      ]
    },
    {
      "cell_type": "markdown",
      "id": "e5960615",
      "metadata": {
        "papermill": {
          "duration": 0.061464,
          "end_time": "2021-08-06T11:18:51.758362",
          "exception": false,
          "start_time": "2021-08-06T11:18:51.696898",
          "status": "completed"
        },
        "tags": [],
        "id": "e5960615"
      },
      "source": [
        "# Import Library"
      ]
    },
    {
      "cell_type": "code",
      "execution_count": 4,
      "id": "e63e8c99",
      "metadata": {
        "execution": {
          "iopub.execute_input": "2021-08-06T11:18:51.887038Z",
          "iopub.status.busy": "2021-08-06T11:18:51.885863Z",
          "iopub.status.idle": "2021-08-06T11:18:52.935523Z",
          "shell.execute_reply": "2021-08-06T11:18:52.934311Z",
          "shell.execute_reply.started": "2021-07-23T03:29:33.256053Z"
        },
        "papermill": {
          "duration": 1.115866,
          "end_time": "2021-08-06T11:18:52.935754",
          "exception": false,
          "start_time": "2021-08-06T11:18:51.819888",
          "status": "completed"
        },
        "tags": [],
        "id": "e63e8c99"
      },
      "outputs": [],
      "source": [
        "import numpy as np\n",
        "import pandas as pd\n",
        "import matplotlib.pyplot as plt\n",
        "import seaborn as sns\n",
        "import os\n",
        "import scipy as sp\n",
        "import warnings\n",
        "import datetime\n",
        "warnings.filterwarnings(\"ignore\")\n",
        "%matplotlib inline\n"
      ]
    },
    {
      "cell_type": "markdown",
      "id": "2ba89af4",
      "metadata": {
        "papermill": {
          "duration": 0.062513,
          "end_time": "2021-08-06T11:18:53.061355",
          "exception": false,
          "start_time": "2021-08-06T11:18:52.998842",
          "status": "completed"
        },
        "tags": [],
        "id": "2ba89af4"
      },
      "source": [
        "# **Upload Dataset**"
      ]
    },
    {
      "cell_type": "code",
      "execution_count": 5,
      "id": "a66848f4",
      "metadata": {
        "execution": {
          "iopub.execute_input": "2021-08-06T11:18:53.192403Z",
          "iopub.status.busy": "2021-08-06T11:18:53.191763Z",
          "iopub.status.idle": "2021-08-06T11:18:53.221929Z",
          "shell.execute_reply": "2021-08-06T11:18:53.221350Z",
          "shell.execute_reply.started": "2021-07-23T03:29:34.20956Z"
        },
        "papermill": {
          "duration": 0.097763,
          "end_time": "2021-08-06T11:18:53.222072",
          "exception": false,
          "start_time": "2021-08-06T11:18:53.124309",
          "status": "completed"
        },
        "tags": [],
        "id": "a66848f4"
      },
      "outputs": [],
      "source": [
        "data = pd.read_csv(\"Dataset_Barang.csv\")\n"
      ]
    },
    {
      "cell_type": "code",
      "execution_count": 6,
      "id": "a9dd1e82",
      "metadata": {
        "execution": {
          "iopub.execute_input": "2021-08-06T11:18:53.349964Z",
          "iopub.status.busy": "2021-08-06T11:18:53.349329Z",
          "iopub.status.idle": "2021-08-06T11:18:53.396616Z",
          "shell.execute_reply": "2021-08-06T11:18:53.397120Z",
          "shell.execute_reply.started": "2021-07-23T03:29:34.243255Z"
        },
        "papermill": {
          "duration": 0.111905,
          "end_time": "2021-08-06T11:18:53.397287",
          "exception": false,
          "start_time": "2021-08-06T11:18:53.285382",
          "status": "completed"
        },
        "tags": [],
        "colab": {
          "base_uri": "https://localhost:8080/",
          "height": 696
        },
        "id": "a9dd1e82",
        "outputId": "e2fab615-9e65-4a84-c26d-ebccf42dd343"
      },
      "outputs": [
        {
          "output_type": "execute_result",
          "data": {
            "text/plain": [
              "      Invoice ID Branch       City Customer type  Gender  \\\n",
              "0    750-67-8428      A     Yangon        Member  Female   \n",
              "1    226-31-3081      C  Naypyitaw        Normal  Female   \n",
              "2    631-41-3108      A     Yangon        Normal    Male   \n",
              "3    123-19-1176      A     Yangon        Member    Male   \n",
              "4    373-73-7910      A     Yangon        Normal    Male   \n",
              "..           ...    ...        ...           ...     ...   \n",
              "995  233-67-5758      C  Naypyitaw        Normal    Male   \n",
              "996  303-96-2227      B   Mandalay        Normal  Female   \n",
              "997  727-02-1313      A     Yangon        Member    Male   \n",
              "998  347-56-2442      A     Yangon        Normal    Male   \n",
              "999  849-09-3807      A     Yangon        Member  Female   \n",
              "\n",
              "               Product line  Unit price  Quantity   Tax 5%      Total  \\\n",
              "0         Health and beauty       74.69         7  26.1415   548.9715   \n",
              "1    Electronic accessories       15.28         5   3.8200    80.2200   \n",
              "2        Home and lifestyle       46.33         7  16.2155   340.5255   \n",
              "3         Health and beauty       58.22         8  23.2880   489.0480   \n",
              "4         Sports and travel       86.31         7  30.2085   634.3785   \n",
              "..                      ...         ...       ...      ...        ...   \n",
              "995       Health and beauty       40.35         1   2.0175    42.3675   \n",
              "996      Home and lifestyle       97.38        10  48.6900  1022.4900   \n",
              "997      Food and beverages       31.84         1   1.5920    33.4320   \n",
              "998      Home and lifestyle       65.82         1   3.2910    69.1110   \n",
              "999     Fashion accessories       88.34         7  30.9190   649.2990   \n",
              "\n",
              "          Date   Time      Payment    cogs  gross margin percentage  \\\n",
              "0     1/5/2019  13:08      Ewallet  522.83                 4.761905   \n",
              "1     3/8/2019  10:29         Cash   76.40                 4.761905   \n",
              "2     3/3/2019  13:23  Credit card  324.31                 4.761905   \n",
              "3    1/27/2019  20:33      Ewallet  465.76                 4.761905   \n",
              "4     2/8/2019  10:37      Ewallet  604.17                 4.761905   \n",
              "..         ...    ...          ...     ...                      ...   \n",
              "995  1/29/2019  13:46      Ewallet   40.35                 4.761905   \n",
              "996   3/2/2019  17:16      Ewallet  973.80                 4.761905   \n",
              "997   2/9/2019  13:22         Cash   31.84                 4.761905   \n",
              "998  2/22/2019  15:33         Cash   65.82                 4.761905   \n",
              "999  2/18/2019  13:28         Cash  618.38                 4.761905   \n",
              "\n",
              "     gross income  Rating  \n",
              "0         26.1415     9.1  \n",
              "1          3.8200     9.6  \n",
              "2         16.2155     7.4  \n",
              "3         23.2880     8.4  \n",
              "4         30.2085     5.3  \n",
              "..            ...     ...  \n",
              "995        2.0175     6.2  \n",
              "996       48.6900     4.4  \n",
              "997        1.5920     7.7  \n",
              "998        3.2910     4.1  \n",
              "999       30.9190     6.6  \n",
              "\n",
              "[1000 rows x 17 columns]"
            ],
            "text/html": [
              "\n",
              "  <div id=\"df-36b87ada-e0c1-4f61-a094-b40bf0a680d0\">\n",
              "    <div class=\"colab-df-container\">\n",
              "      <div>\n",
              "<style scoped>\n",
              "    .dataframe tbody tr th:only-of-type {\n",
              "        vertical-align: middle;\n",
              "    }\n",
              "\n",
              "    .dataframe tbody tr th {\n",
              "        vertical-align: top;\n",
              "    }\n",
              "\n",
              "    .dataframe thead th {\n",
              "        text-align: right;\n",
              "    }\n",
              "</style>\n",
              "<table border=\"1\" class=\"dataframe\">\n",
              "  <thead>\n",
              "    <tr style=\"text-align: right;\">\n",
              "      <th></th>\n",
              "      <th>Invoice ID</th>\n",
              "      <th>Branch</th>\n",
              "      <th>City</th>\n",
              "      <th>Customer type</th>\n",
              "      <th>Gender</th>\n",
              "      <th>Product line</th>\n",
              "      <th>Unit price</th>\n",
              "      <th>Quantity</th>\n",
              "      <th>Tax 5%</th>\n",
              "      <th>Total</th>\n",
              "      <th>Date</th>\n",
              "      <th>Time</th>\n",
              "      <th>Payment</th>\n",
              "      <th>cogs</th>\n",
              "      <th>gross margin percentage</th>\n",
              "      <th>gross income</th>\n",
              "      <th>Rating</th>\n",
              "    </tr>\n",
              "  </thead>\n",
              "  <tbody>\n",
              "    <tr>\n",
              "      <th>0</th>\n",
              "      <td>750-67-8428</td>\n",
              "      <td>A</td>\n",
              "      <td>Yangon</td>\n",
              "      <td>Member</td>\n",
              "      <td>Female</td>\n",
              "      <td>Health and beauty</td>\n",
              "      <td>74.69</td>\n",
              "      <td>7</td>\n",
              "      <td>26.1415</td>\n",
              "      <td>548.9715</td>\n",
              "      <td>1/5/2019</td>\n",
              "      <td>13:08</td>\n",
              "      <td>Ewallet</td>\n",
              "      <td>522.83</td>\n",
              "      <td>4.761905</td>\n",
              "      <td>26.1415</td>\n",
              "      <td>9.1</td>\n",
              "    </tr>\n",
              "    <tr>\n",
              "      <th>1</th>\n",
              "      <td>226-31-3081</td>\n",
              "      <td>C</td>\n",
              "      <td>Naypyitaw</td>\n",
              "      <td>Normal</td>\n",
              "      <td>Female</td>\n",
              "      <td>Electronic accessories</td>\n",
              "      <td>15.28</td>\n",
              "      <td>5</td>\n",
              "      <td>3.8200</td>\n",
              "      <td>80.2200</td>\n",
              "      <td>3/8/2019</td>\n",
              "      <td>10:29</td>\n",
              "      <td>Cash</td>\n",
              "      <td>76.40</td>\n",
              "      <td>4.761905</td>\n",
              "      <td>3.8200</td>\n",
              "      <td>9.6</td>\n",
              "    </tr>\n",
              "    <tr>\n",
              "      <th>2</th>\n",
              "      <td>631-41-3108</td>\n",
              "      <td>A</td>\n",
              "      <td>Yangon</td>\n",
              "      <td>Normal</td>\n",
              "      <td>Male</td>\n",
              "      <td>Home and lifestyle</td>\n",
              "      <td>46.33</td>\n",
              "      <td>7</td>\n",
              "      <td>16.2155</td>\n",
              "      <td>340.5255</td>\n",
              "      <td>3/3/2019</td>\n",
              "      <td>13:23</td>\n",
              "      <td>Credit card</td>\n",
              "      <td>324.31</td>\n",
              "      <td>4.761905</td>\n",
              "      <td>16.2155</td>\n",
              "      <td>7.4</td>\n",
              "    </tr>\n",
              "    <tr>\n",
              "      <th>3</th>\n",
              "      <td>123-19-1176</td>\n",
              "      <td>A</td>\n",
              "      <td>Yangon</td>\n",
              "      <td>Member</td>\n",
              "      <td>Male</td>\n",
              "      <td>Health and beauty</td>\n",
              "      <td>58.22</td>\n",
              "      <td>8</td>\n",
              "      <td>23.2880</td>\n",
              "      <td>489.0480</td>\n",
              "      <td>1/27/2019</td>\n",
              "      <td>20:33</td>\n",
              "      <td>Ewallet</td>\n",
              "      <td>465.76</td>\n",
              "      <td>4.761905</td>\n",
              "      <td>23.2880</td>\n",
              "      <td>8.4</td>\n",
              "    </tr>\n",
              "    <tr>\n",
              "      <th>4</th>\n",
              "      <td>373-73-7910</td>\n",
              "      <td>A</td>\n",
              "      <td>Yangon</td>\n",
              "      <td>Normal</td>\n",
              "      <td>Male</td>\n",
              "      <td>Sports and travel</td>\n",
              "      <td>86.31</td>\n",
              "      <td>7</td>\n",
              "      <td>30.2085</td>\n",
              "      <td>634.3785</td>\n",
              "      <td>2/8/2019</td>\n",
              "      <td>10:37</td>\n",
              "      <td>Ewallet</td>\n",
              "      <td>604.17</td>\n",
              "      <td>4.761905</td>\n",
              "      <td>30.2085</td>\n",
              "      <td>5.3</td>\n",
              "    </tr>\n",
              "    <tr>\n",
              "      <th>...</th>\n",
              "      <td>...</td>\n",
              "      <td>...</td>\n",
              "      <td>...</td>\n",
              "      <td>...</td>\n",
              "      <td>...</td>\n",
              "      <td>...</td>\n",
              "      <td>...</td>\n",
              "      <td>...</td>\n",
              "      <td>...</td>\n",
              "      <td>...</td>\n",
              "      <td>...</td>\n",
              "      <td>...</td>\n",
              "      <td>...</td>\n",
              "      <td>...</td>\n",
              "      <td>...</td>\n",
              "      <td>...</td>\n",
              "      <td>...</td>\n",
              "    </tr>\n",
              "    <tr>\n",
              "      <th>995</th>\n",
              "      <td>233-67-5758</td>\n",
              "      <td>C</td>\n",
              "      <td>Naypyitaw</td>\n",
              "      <td>Normal</td>\n",
              "      <td>Male</td>\n",
              "      <td>Health and beauty</td>\n",
              "      <td>40.35</td>\n",
              "      <td>1</td>\n",
              "      <td>2.0175</td>\n",
              "      <td>42.3675</td>\n",
              "      <td>1/29/2019</td>\n",
              "      <td>13:46</td>\n",
              "      <td>Ewallet</td>\n",
              "      <td>40.35</td>\n",
              "      <td>4.761905</td>\n",
              "      <td>2.0175</td>\n",
              "      <td>6.2</td>\n",
              "    </tr>\n",
              "    <tr>\n",
              "      <th>996</th>\n",
              "      <td>303-96-2227</td>\n",
              "      <td>B</td>\n",
              "      <td>Mandalay</td>\n",
              "      <td>Normal</td>\n",
              "      <td>Female</td>\n",
              "      <td>Home and lifestyle</td>\n",
              "      <td>97.38</td>\n",
              "      <td>10</td>\n",
              "      <td>48.6900</td>\n",
              "      <td>1022.4900</td>\n",
              "      <td>3/2/2019</td>\n",
              "      <td>17:16</td>\n",
              "      <td>Ewallet</td>\n",
              "      <td>973.80</td>\n",
              "      <td>4.761905</td>\n",
              "      <td>48.6900</td>\n",
              "      <td>4.4</td>\n",
              "    </tr>\n",
              "    <tr>\n",
              "      <th>997</th>\n",
              "      <td>727-02-1313</td>\n",
              "      <td>A</td>\n",
              "      <td>Yangon</td>\n",
              "      <td>Member</td>\n",
              "      <td>Male</td>\n",
              "      <td>Food and beverages</td>\n",
              "      <td>31.84</td>\n",
              "      <td>1</td>\n",
              "      <td>1.5920</td>\n",
              "      <td>33.4320</td>\n",
              "      <td>2/9/2019</td>\n",
              "      <td>13:22</td>\n",
              "      <td>Cash</td>\n",
              "      <td>31.84</td>\n",
              "      <td>4.761905</td>\n",
              "      <td>1.5920</td>\n",
              "      <td>7.7</td>\n",
              "    </tr>\n",
              "    <tr>\n",
              "      <th>998</th>\n",
              "      <td>347-56-2442</td>\n",
              "      <td>A</td>\n",
              "      <td>Yangon</td>\n",
              "      <td>Normal</td>\n",
              "      <td>Male</td>\n",
              "      <td>Home and lifestyle</td>\n",
              "      <td>65.82</td>\n",
              "      <td>1</td>\n",
              "      <td>3.2910</td>\n",
              "      <td>69.1110</td>\n",
              "      <td>2/22/2019</td>\n",
              "      <td>15:33</td>\n",
              "      <td>Cash</td>\n",
              "      <td>65.82</td>\n",
              "      <td>4.761905</td>\n",
              "      <td>3.2910</td>\n",
              "      <td>4.1</td>\n",
              "    </tr>\n",
              "    <tr>\n",
              "      <th>999</th>\n",
              "      <td>849-09-3807</td>\n",
              "      <td>A</td>\n",
              "      <td>Yangon</td>\n",
              "      <td>Member</td>\n",
              "      <td>Female</td>\n",
              "      <td>Fashion accessories</td>\n",
              "      <td>88.34</td>\n",
              "      <td>7</td>\n",
              "      <td>30.9190</td>\n",
              "      <td>649.2990</td>\n",
              "      <td>2/18/2019</td>\n",
              "      <td>13:28</td>\n",
              "      <td>Cash</td>\n",
              "      <td>618.38</td>\n",
              "      <td>4.761905</td>\n",
              "      <td>30.9190</td>\n",
              "      <td>6.6</td>\n",
              "    </tr>\n",
              "  </tbody>\n",
              "</table>\n",
              "<p>1000 rows × 17 columns</p>\n",
              "</div>\n",
              "      <button class=\"colab-df-convert\" onclick=\"convertToInteractive('df-36b87ada-e0c1-4f61-a094-b40bf0a680d0')\"\n",
              "              title=\"Convert this dataframe to an interactive table.\"\n",
              "              style=\"display:none;\">\n",
              "        \n",
              "  <svg xmlns=\"http://www.w3.org/2000/svg\" height=\"24px\"viewBox=\"0 0 24 24\"\n",
              "       width=\"24px\">\n",
              "    <path d=\"M0 0h24v24H0V0z\" fill=\"none\"/>\n",
              "    <path d=\"M18.56 5.44l.94 2.06.94-2.06 2.06-.94-2.06-.94-.94-2.06-.94 2.06-2.06.94zm-11 1L8.5 8.5l.94-2.06 2.06-.94-2.06-.94L8.5 2.5l-.94 2.06-2.06.94zm10 10l.94 2.06.94-2.06 2.06-.94-2.06-.94-.94-2.06-.94 2.06-2.06.94z\"/><path d=\"M17.41 7.96l-1.37-1.37c-.4-.4-.92-.59-1.43-.59-.52 0-1.04.2-1.43.59L10.3 9.45l-7.72 7.72c-.78.78-.78 2.05 0 2.83L4 21.41c.39.39.9.59 1.41.59.51 0 1.02-.2 1.41-.59l7.78-7.78 2.81-2.81c.8-.78.8-2.07 0-2.86zM5.41 20L4 18.59l7.72-7.72 1.47 1.35L5.41 20z\"/>\n",
              "  </svg>\n",
              "      </button>\n",
              "      \n",
              "  <style>\n",
              "    .colab-df-container {\n",
              "      display:flex;\n",
              "      flex-wrap:wrap;\n",
              "      gap: 12px;\n",
              "    }\n",
              "\n",
              "    .colab-df-convert {\n",
              "      background-color: #E8F0FE;\n",
              "      border: none;\n",
              "      border-radius: 50%;\n",
              "      cursor: pointer;\n",
              "      display: none;\n",
              "      fill: #1967D2;\n",
              "      height: 32px;\n",
              "      padding: 0 0 0 0;\n",
              "      width: 32px;\n",
              "    }\n",
              "\n",
              "    .colab-df-convert:hover {\n",
              "      background-color: #E2EBFA;\n",
              "      box-shadow: 0px 1px 2px rgba(60, 64, 67, 0.3), 0px 1px 3px 1px rgba(60, 64, 67, 0.15);\n",
              "      fill: #174EA6;\n",
              "    }\n",
              "\n",
              "    [theme=dark] .colab-df-convert {\n",
              "      background-color: #3B4455;\n",
              "      fill: #D2E3FC;\n",
              "    }\n",
              "\n",
              "    [theme=dark] .colab-df-convert:hover {\n",
              "      background-color: #434B5C;\n",
              "      box-shadow: 0px 1px 3px 1px rgba(0, 0, 0, 0.15);\n",
              "      filter: drop-shadow(0px 1px 2px rgba(0, 0, 0, 0.3));\n",
              "      fill: #FFFFFF;\n",
              "    }\n",
              "  </style>\n",
              "\n",
              "      <script>\n",
              "        const buttonEl =\n",
              "          document.querySelector('#df-36b87ada-e0c1-4f61-a094-b40bf0a680d0 button.colab-df-convert');\n",
              "        buttonEl.style.display =\n",
              "          google.colab.kernel.accessAllowed ? 'block' : 'none';\n",
              "\n",
              "        async function convertToInteractive(key) {\n",
              "          const element = document.querySelector('#df-36b87ada-e0c1-4f61-a094-b40bf0a680d0');\n",
              "          const dataTable =\n",
              "            await google.colab.kernel.invokeFunction('convertToInteractive',\n",
              "                                                     [key], {});\n",
              "          if (!dataTable) return;\n",
              "\n",
              "          const docLinkHtml = 'Like what you see? Visit the ' +\n",
              "            '<a target=\"_blank\" href=https://colab.research.google.com/notebooks/data_table.ipynb>data table notebook</a>'\n",
              "            + ' to learn more about interactive tables.';\n",
              "          element.innerHTML = '';\n",
              "          dataTable['output_type'] = 'display_data';\n",
              "          await google.colab.output.renderOutput(dataTable, element);\n",
              "          const docLink = document.createElement('div');\n",
              "          docLink.innerHTML = docLinkHtml;\n",
              "          element.appendChild(docLink);\n",
              "        }\n",
              "      </script>\n",
              "    </div>\n",
              "  </div>\n",
              "  "
            ]
          },
          "metadata": {},
          "execution_count": 6
        }
      ],
      "source": [
        "data"
      ]
    },
    {
      "cell_type": "code",
      "execution_count": 7,
      "id": "bf78bf3c",
      "metadata": {
        "execution": {
          "iopub.execute_input": "2021-08-06T11:18:53.528116Z",
          "iopub.status.busy": "2021-08-06T11:18:53.527146Z",
          "iopub.status.idle": "2021-08-06T11:18:53.550761Z",
          "shell.execute_reply": "2021-08-06T11:18:53.551257Z",
          "shell.execute_reply.started": "2021-07-23T03:29:34.303256Z"
        },
        "papermill": {
          "duration": 0.090385,
          "end_time": "2021-08-06T11:18:53.551426",
          "exception": false,
          "start_time": "2021-08-06T11:18:53.461041",
          "status": "completed"
        },
        "tags": [],
        "colab": {
          "base_uri": "https://localhost:8080/",
          "height": 392
        },
        "id": "bf78bf3c",
        "outputId": "fe60abe8-799a-496a-e67b-bbc004541fac"
      },
      "outputs": [
        {
          "output_type": "execute_result",
          "data": {
            "text/plain": [
              "    Invoice ID Branch       City Customer type  Gender  \\\n",
              "0  750-67-8428      A     Yangon        Member  Female   \n",
              "1  226-31-3081      C  Naypyitaw        Normal  Female   \n",
              "2  631-41-3108      A     Yangon        Normal    Male   \n",
              "3  123-19-1176      A     Yangon        Member    Male   \n",
              "4  373-73-7910      A     Yangon        Normal    Male   \n",
              "\n",
              "             Product line  Unit price  Quantity   Tax 5%     Total       Date  \\\n",
              "0       Health and beauty       74.69         7  26.1415  548.9715   1/5/2019   \n",
              "1  Electronic accessories       15.28         5   3.8200   80.2200   3/8/2019   \n",
              "2      Home and lifestyle       46.33         7  16.2155  340.5255   3/3/2019   \n",
              "3       Health and beauty       58.22         8  23.2880  489.0480  1/27/2019   \n",
              "4       Sports and travel       86.31         7  30.2085  634.3785   2/8/2019   \n",
              "\n",
              "    Time      Payment    cogs  gross margin percentage  gross income  Rating  \n",
              "0  13:08      Ewallet  522.83                 4.761905       26.1415     9.1  \n",
              "1  10:29         Cash   76.40                 4.761905        3.8200     9.6  \n",
              "2  13:23  Credit card  324.31                 4.761905       16.2155     7.4  \n",
              "3  20:33      Ewallet  465.76                 4.761905       23.2880     8.4  \n",
              "4  10:37      Ewallet  604.17                 4.761905       30.2085     5.3  "
            ],
            "text/html": [
              "\n",
              "  <div id=\"df-03f90b8e-fdd2-4239-a758-0722c62a9f9d\">\n",
              "    <div class=\"colab-df-container\">\n",
              "      <div>\n",
              "<style scoped>\n",
              "    .dataframe tbody tr th:only-of-type {\n",
              "        vertical-align: middle;\n",
              "    }\n",
              "\n",
              "    .dataframe tbody tr th {\n",
              "        vertical-align: top;\n",
              "    }\n",
              "\n",
              "    .dataframe thead th {\n",
              "        text-align: right;\n",
              "    }\n",
              "</style>\n",
              "<table border=\"1\" class=\"dataframe\">\n",
              "  <thead>\n",
              "    <tr style=\"text-align: right;\">\n",
              "      <th></th>\n",
              "      <th>Invoice ID</th>\n",
              "      <th>Branch</th>\n",
              "      <th>City</th>\n",
              "      <th>Customer type</th>\n",
              "      <th>Gender</th>\n",
              "      <th>Product line</th>\n",
              "      <th>Unit price</th>\n",
              "      <th>Quantity</th>\n",
              "      <th>Tax 5%</th>\n",
              "      <th>Total</th>\n",
              "      <th>Date</th>\n",
              "      <th>Time</th>\n",
              "      <th>Payment</th>\n",
              "      <th>cogs</th>\n",
              "      <th>gross margin percentage</th>\n",
              "      <th>gross income</th>\n",
              "      <th>Rating</th>\n",
              "    </tr>\n",
              "  </thead>\n",
              "  <tbody>\n",
              "    <tr>\n",
              "      <th>0</th>\n",
              "      <td>750-67-8428</td>\n",
              "      <td>A</td>\n",
              "      <td>Yangon</td>\n",
              "      <td>Member</td>\n",
              "      <td>Female</td>\n",
              "      <td>Health and beauty</td>\n",
              "      <td>74.69</td>\n",
              "      <td>7</td>\n",
              "      <td>26.1415</td>\n",
              "      <td>548.9715</td>\n",
              "      <td>1/5/2019</td>\n",
              "      <td>13:08</td>\n",
              "      <td>Ewallet</td>\n",
              "      <td>522.83</td>\n",
              "      <td>4.761905</td>\n",
              "      <td>26.1415</td>\n",
              "      <td>9.1</td>\n",
              "    </tr>\n",
              "    <tr>\n",
              "      <th>1</th>\n",
              "      <td>226-31-3081</td>\n",
              "      <td>C</td>\n",
              "      <td>Naypyitaw</td>\n",
              "      <td>Normal</td>\n",
              "      <td>Female</td>\n",
              "      <td>Electronic accessories</td>\n",
              "      <td>15.28</td>\n",
              "      <td>5</td>\n",
              "      <td>3.8200</td>\n",
              "      <td>80.2200</td>\n",
              "      <td>3/8/2019</td>\n",
              "      <td>10:29</td>\n",
              "      <td>Cash</td>\n",
              "      <td>76.40</td>\n",
              "      <td>4.761905</td>\n",
              "      <td>3.8200</td>\n",
              "      <td>9.6</td>\n",
              "    </tr>\n",
              "    <tr>\n",
              "      <th>2</th>\n",
              "      <td>631-41-3108</td>\n",
              "      <td>A</td>\n",
              "      <td>Yangon</td>\n",
              "      <td>Normal</td>\n",
              "      <td>Male</td>\n",
              "      <td>Home and lifestyle</td>\n",
              "      <td>46.33</td>\n",
              "      <td>7</td>\n",
              "      <td>16.2155</td>\n",
              "      <td>340.5255</td>\n",
              "      <td>3/3/2019</td>\n",
              "      <td>13:23</td>\n",
              "      <td>Credit card</td>\n",
              "      <td>324.31</td>\n",
              "      <td>4.761905</td>\n",
              "      <td>16.2155</td>\n",
              "      <td>7.4</td>\n",
              "    </tr>\n",
              "    <tr>\n",
              "      <th>3</th>\n",
              "      <td>123-19-1176</td>\n",
              "      <td>A</td>\n",
              "      <td>Yangon</td>\n",
              "      <td>Member</td>\n",
              "      <td>Male</td>\n",
              "      <td>Health and beauty</td>\n",
              "      <td>58.22</td>\n",
              "      <td>8</td>\n",
              "      <td>23.2880</td>\n",
              "      <td>489.0480</td>\n",
              "      <td>1/27/2019</td>\n",
              "      <td>20:33</td>\n",
              "      <td>Ewallet</td>\n",
              "      <td>465.76</td>\n",
              "      <td>4.761905</td>\n",
              "      <td>23.2880</td>\n",
              "      <td>8.4</td>\n",
              "    </tr>\n",
              "    <tr>\n",
              "      <th>4</th>\n",
              "      <td>373-73-7910</td>\n",
              "      <td>A</td>\n",
              "      <td>Yangon</td>\n",
              "      <td>Normal</td>\n",
              "      <td>Male</td>\n",
              "      <td>Sports and travel</td>\n",
              "      <td>86.31</td>\n",
              "      <td>7</td>\n",
              "      <td>30.2085</td>\n",
              "      <td>634.3785</td>\n",
              "      <td>2/8/2019</td>\n",
              "      <td>10:37</td>\n",
              "      <td>Ewallet</td>\n",
              "      <td>604.17</td>\n",
              "      <td>4.761905</td>\n",
              "      <td>30.2085</td>\n",
              "      <td>5.3</td>\n",
              "    </tr>\n",
              "  </tbody>\n",
              "</table>\n",
              "</div>\n",
              "      <button class=\"colab-df-convert\" onclick=\"convertToInteractive('df-03f90b8e-fdd2-4239-a758-0722c62a9f9d')\"\n",
              "              title=\"Convert this dataframe to an interactive table.\"\n",
              "              style=\"display:none;\">\n",
              "        \n",
              "  <svg xmlns=\"http://www.w3.org/2000/svg\" height=\"24px\"viewBox=\"0 0 24 24\"\n",
              "       width=\"24px\">\n",
              "    <path d=\"M0 0h24v24H0V0z\" fill=\"none\"/>\n",
              "    <path d=\"M18.56 5.44l.94 2.06.94-2.06 2.06-.94-2.06-.94-.94-2.06-.94 2.06-2.06.94zm-11 1L8.5 8.5l.94-2.06 2.06-.94-2.06-.94L8.5 2.5l-.94 2.06-2.06.94zm10 10l.94 2.06.94-2.06 2.06-.94-2.06-.94-.94-2.06-.94 2.06-2.06.94z\"/><path d=\"M17.41 7.96l-1.37-1.37c-.4-.4-.92-.59-1.43-.59-.52 0-1.04.2-1.43.59L10.3 9.45l-7.72 7.72c-.78.78-.78 2.05 0 2.83L4 21.41c.39.39.9.59 1.41.59.51 0 1.02-.2 1.41-.59l7.78-7.78 2.81-2.81c.8-.78.8-2.07 0-2.86zM5.41 20L4 18.59l7.72-7.72 1.47 1.35L5.41 20z\"/>\n",
              "  </svg>\n",
              "      </button>\n",
              "      \n",
              "  <style>\n",
              "    .colab-df-container {\n",
              "      display:flex;\n",
              "      flex-wrap:wrap;\n",
              "      gap: 12px;\n",
              "    }\n",
              "\n",
              "    .colab-df-convert {\n",
              "      background-color: #E8F0FE;\n",
              "      border: none;\n",
              "      border-radius: 50%;\n",
              "      cursor: pointer;\n",
              "      display: none;\n",
              "      fill: #1967D2;\n",
              "      height: 32px;\n",
              "      padding: 0 0 0 0;\n",
              "      width: 32px;\n",
              "    }\n",
              "\n",
              "    .colab-df-convert:hover {\n",
              "      background-color: #E2EBFA;\n",
              "      box-shadow: 0px 1px 2px rgba(60, 64, 67, 0.3), 0px 1px 3px 1px rgba(60, 64, 67, 0.15);\n",
              "      fill: #174EA6;\n",
              "    }\n",
              "\n",
              "    [theme=dark] .colab-df-convert {\n",
              "      background-color: #3B4455;\n",
              "      fill: #D2E3FC;\n",
              "    }\n",
              "\n",
              "    [theme=dark] .colab-df-convert:hover {\n",
              "      background-color: #434B5C;\n",
              "      box-shadow: 0px 1px 3px 1px rgba(0, 0, 0, 0.15);\n",
              "      filter: drop-shadow(0px 1px 2px rgba(0, 0, 0, 0.3));\n",
              "      fill: #FFFFFF;\n",
              "    }\n",
              "  </style>\n",
              "\n",
              "      <script>\n",
              "        const buttonEl =\n",
              "          document.querySelector('#df-03f90b8e-fdd2-4239-a758-0722c62a9f9d button.colab-df-convert');\n",
              "        buttonEl.style.display =\n",
              "          google.colab.kernel.accessAllowed ? 'block' : 'none';\n",
              "\n",
              "        async function convertToInteractive(key) {\n",
              "          const element = document.querySelector('#df-03f90b8e-fdd2-4239-a758-0722c62a9f9d');\n",
              "          const dataTable =\n",
              "            await google.colab.kernel.invokeFunction('convertToInteractive',\n",
              "                                                     [key], {});\n",
              "          if (!dataTable) return;\n",
              "\n",
              "          const docLinkHtml = 'Like what you see? Visit the ' +\n",
              "            '<a target=\"_blank\" href=https://colab.research.google.com/notebooks/data_table.ipynb>data table notebook</a>'\n",
              "            + ' to learn more about interactive tables.';\n",
              "          element.innerHTML = '';\n",
              "          dataTable['output_type'] = 'display_data';\n",
              "          await google.colab.output.renderOutput(dataTable, element);\n",
              "          const docLink = document.createElement('div');\n",
              "          docLink.innerHTML = docLinkHtml;\n",
              "          element.appendChild(docLink);\n",
              "        }\n",
              "      </script>\n",
              "    </div>\n",
              "  </div>\n",
              "  "
            ]
          },
          "metadata": {},
          "execution_count": 7
        }
      ],
      "source": [
        "data.head()"
      ]
    },
    {
      "cell_type": "markdown",
      "source": [
        "# **Prepocessing**"
      ],
      "metadata": {
        "id": "fcXlqxlS9lRp"
      },
      "id": "fcXlqxlS9lRp"
    },
    {
      "cell_type": "code",
      "execution_count": 8,
      "id": "cb5da4bb",
      "metadata": {
        "execution": {
          "iopub.execute_input": "2021-08-06T11:18:53.684418Z",
          "iopub.status.busy": "2021-08-06T11:18:53.683475Z",
          "iopub.status.idle": "2021-08-06T11:18:53.723350Z",
          "shell.execute_reply": "2021-08-06T11:18:53.723909Z",
          "shell.execute_reply.started": "2021-07-23T03:29:34.3289Z"
        },
        "papermill": {
          "duration": 0.108225,
          "end_time": "2021-08-06T11:18:53.724082",
          "exception": false,
          "start_time": "2021-08-06T11:18:53.615857",
          "status": "completed"
        },
        "tags": [],
        "colab": {
          "base_uri": "https://localhost:8080/",
          "height": 300
        },
        "id": "cb5da4bb",
        "outputId": "918f557e-6c6b-4d96-e0b4-9a8bbf11bb68"
      },
      "outputs": [
        {
          "output_type": "execute_result",
          "data": {
            "text/plain": [
              "        Unit price     Quantity       Tax 5%        Total        cogs  \\\n",
              "count  1000.000000  1000.000000  1000.000000  1000.000000  1000.00000   \n",
              "mean     55.672130     5.510000    15.379369   322.966749   307.58738   \n",
              "std      26.494628     2.923431    11.708825   245.885335   234.17651   \n",
              "min      10.080000     1.000000     0.508500    10.678500    10.17000   \n",
              "25%      32.875000     3.000000     5.924875   124.422375   118.49750   \n",
              "50%      55.230000     5.000000    12.088000   253.848000   241.76000   \n",
              "75%      77.935000     8.000000    22.445250   471.350250   448.90500   \n",
              "max      99.960000    10.000000    49.650000  1042.650000   993.00000   \n",
              "\n",
              "       gross margin percentage  gross income      Rating  \n",
              "count              1000.000000   1000.000000  1000.00000  \n",
              "mean                  4.761905     15.379369     6.97270  \n",
              "std                   0.000000     11.708825     1.71858  \n",
              "min                   4.761905      0.508500     4.00000  \n",
              "25%                   4.761905      5.924875     5.50000  \n",
              "50%                   4.761905     12.088000     7.00000  \n",
              "75%                   4.761905     22.445250     8.50000  \n",
              "max                   4.761905     49.650000    10.00000  "
            ],
            "text/html": [
              "\n",
              "  <div id=\"df-aebdfcfc-ee4f-498f-8ec1-3077cf486799\">\n",
              "    <div class=\"colab-df-container\">\n",
              "      <div>\n",
              "<style scoped>\n",
              "    .dataframe tbody tr th:only-of-type {\n",
              "        vertical-align: middle;\n",
              "    }\n",
              "\n",
              "    .dataframe tbody tr th {\n",
              "        vertical-align: top;\n",
              "    }\n",
              "\n",
              "    .dataframe thead th {\n",
              "        text-align: right;\n",
              "    }\n",
              "</style>\n",
              "<table border=\"1\" class=\"dataframe\">\n",
              "  <thead>\n",
              "    <tr style=\"text-align: right;\">\n",
              "      <th></th>\n",
              "      <th>Unit price</th>\n",
              "      <th>Quantity</th>\n",
              "      <th>Tax 5%</th>\n",
              "      <th>Total</th>\n",
              "      <th>cogs</th>\n",
              "      <th>gross margin percentage</th>\n",
              "      <th>gross income</th>\n",
              "      <th>Rating</th>\n",
              "    </tr>\n",
              "  </thead>\n",
              "  <tbody>\n",
              "    <tr>\n",
              "      <th>count</th>\n",
              "      <td>1000.000000</td>\n",
              "      <td>1000.000000</td>\n",
              "      <td>1000.000000</td>\n",
              "      <td>1000.000000</td>\n",
              "      <td>1000.00000</td>\n",
              "      <td>1000.000000</td>\n",
              "      <td>1000.000000</td>\n",
              "      <td>1000.00000</td>\n",
              "    </tr>\n",
              "    <tr>\n",
              "      <th>mean</th>\n",
              "      <td>55.672130</td>\n",
              "      <td>5.510000</td>\n",
              "      <td>15.379369</td>\n",
              "      <td>322.966749</td>\n",
              "      <td>307.58738</td>\n",
              "      <td>4.761905</td>\n",
              "      <td>15.379369</td>\n",
              "      <td>6.97270</td>\n",
              "    </tr>\n",
              "    <tr>\n",
              "      <th>std</th>\n",
              "      <td>26.494628</td>\n",
              "      <td>2.923431</td>\n",
              "      <td>11.708825</td>\n",
              "      <td>245.885335</td>\n",
              "      <td>234.17651</td>\n",
              "      <td>0.000000</td>\n",
              "      <td>11.708825</td>\n",
              "      <td>1.71858</td>\n",
              "    </tr>\n",
              "    <tr>\n",
              "      <th>min</th>\n",
              "      <td>10.080000</td>\n",
              "      <td>1.000000</td>\n",
              "      <td>0.508500</td>\n",
              "      <td>10.678500</td>\n",
              "      <td>10.17000</td>\n",
              "      <td>4.761905</td>\n",
              "      <td>0.508500</td>\n",
              "      <td>4.00000</td>\n",
              "    </tr>\n",
              "    <tr>\n",
              "      <th>25%</th>\n",
              "      <td>32.875000</td>\n",
              "      <td>3.000000</td>\n",
              "      <td>5.924875</td>\n",
              "      <td>124.422375</td>\n",
              "      <td>118.49750</td>\n",
              "      <td>4.761905</td>\n",
              "      <td>5.924875</td>\n",
              "      <td>5.50000</td>\n",
              "    </tr>\n",
              "    <tr>\n",
              "      <th>50%</th>\n",
              "      <td>55.230000</td>\n",
              "      <td>5.000000</td>\n",
              "      <td>12.088000</td>\n",
              "      <td>253.848000</td>\n",
              "      <td>241.76000</td>\n",
              "      <td>4.761905</td>\n",
              "      <td>12.088000</td>\n",
              "      <td>7.00000</td>\n",
              "    </tr>\n",
              "    <tr>\n",
              "      <th>75%</th>\n",
              "      <td>77.935000</td>\n",
              "      <td>8.000000</td>\n",
              "      <td>22.445250</td>\n",
              "      <td>471.350250</td>\n",
              "      <td>448.90500</td>\n",
              "      <td>4.761905</td>\n",
              "      <td>22.445250</td>\n",
              "      <td>8.50000</td>\n",
              "    </tr>\n",
              "    <tr>\n",
              "      <th>max</th>\n",
              "      <td>99.960000</td>\n",
              "      <td>10.000000</td>\n",
              "      <td>49.650000</td>\n",
              "      <td>1042.650000</td>\n",
              "      <td>993.00000</td>\n",
              "      <td>4.761905</td>\n",
              "      <td>49.650000</td>\n",
              "      <td>10.00000</td>\n",
              "    </tr>\n",
              "  </tbody>\n",
              "</table>\n",
              "</div>\n",
              "      <button class=\"colab-df-convert\" onclick=\"convertToInteractive('df-aebdfcfc-ee4f-498f-8ec1-3077cf486799')\"\n",
              "              title=\"Convert this dataframe to an interactive table.\"\n",
              "              style=\"display:none;\">\n",
              "        \n",
              "  <svg xmlns=\"http://www.w3.org/2000/svg\" height=\"24px\"viewBox=\"0 0 24 24\"\n",
              "       width=\"24px\">\n",
              "    <path d=\"M0 0h24v24H0V0z\" fill=\"none\"/>\n",
              "    <path d=\"M18.56 5.44l.94 2.06.94-2.06 2.06-.94-2.06-.94-.94-2.06-.94 2.06-2.06.94zm-11 1L8.5 8.5l.94-2.06 2.06-.94-2.06-.94L8.5 2.5l-.94 2.06-2.06.94zm10 10l.94 2.06.94-2.06 2.06-.94-2.06-.94-.94-2.06-.94 2.06-2.06.94z\"/><path d=\"M17.41 7.96l-1.37-1.37c-.4-.4-.92-.59-1.43-.59-.52 0-1.04.2-1.43.59L10.3 9.45l-7.72 7.72c-.78.78-.78 2.05 0 2.83L4 21.41c.39.39.9.59 1.41.59.51 0 1.02-.2 1.41-.59l7.78-7.78 2.81-2.81c.8-.78.8-2.07 0-2.86zM5.41 20L4 18.59l7.72-7.72 1.47 1.35L5.41 20z\"/>\n",
              "  </svg>\n",
              "      </button>\n",
              "      \n",
              "  <style>\n",
              "    .colab-df-container {\n",
              "      display:flex;\n",
              "      flex-wrap:wrap;\n",
              "      gap: 12px;\n",
              "    }\n",
              "\n",
              "    .colab-df-convert {\n",
              "      background-color: #E8F0FE;\n",
              "      border: none;\n",
              "      border-radius: 50%;\n",
              "      cursor: pointer;\n",
              "      display: none;\n",
              "      fill: #1967D2;\n",
              "      height: 32px;\n",
              "      padding: 0 0 0 0;\n",
              "      width: 32px;\n",
              "    }\n",
              "\n",
              "    .colab-df-convert:hover {\n",
              "      background-color: #E2EBFA;\n",
              "      box-shadow: 0px 1px 2px rgba(60, 64, 67, 0.3), 0px 1px 3px 1px rgba(60, 64, 67, 0.15);\n",
              "      fill: #174EA6;\n",
              "    }\n",
              "\n",
              "    [theme=dark] .colab-df-convert {\n",
              "      background-color: #3B4455;\n",
              "      fill: #D2E3FC;\n",
              "    }\n",
              "\n",
              "    [theme=dark] .colab-df-convert:hover {\n",
              "      background-color: #434B5C;\n",
              "      box-shadow: 0px 1px 3px 1px rgba(0, 0, 0, 0.15);\n",
              "      filter: drop-shadow(0px 1px 2px rgba(0, 0, 0, 0.3));\n",
              "      fill: #FFFFFF;\n",
              "    }\n",
              "  </style>\n",
              "\n",
              "      <script>\n",
              "        const buttonEl =\n",
              "          document.querySelector('#df-aebdfcfc-ee4f-498f-8ec1-3077cf486799 button.colab-df-convert');\n",
              "        buttonEl.style.display =\n",
              "          google.colab.kernel.accessAllowed ? 'block' : 'none';\n",
              "\n",
              "        async function convertToInteractive(key) {\n",
              "          const element = document.querySelector('#df-aebdfcfc-ee4f-498f-8ec1-3077cf486799');\n",
              "          const dataTable =\n",
              "            await google.colab.kernel.invokeFunction('convertToInteractive',\n",
              "                                                     [key], {});\n",
              "          if (!dataTable) return;\n",
              "\n",
              "          const docLinkHtml = 'Like what you see? Visit the ' +\n",
              "            '<a target=\"_blank\" href=https://colab.research.google.com/notebooks/data_table.ipynb>data table notebook</a>'\n",
              "            + ' to learn more about interactive tables.';\n",
              "          element.innerHTML = '';\n",
              "          dataTable['output_type'] = 'display_data';\n",
              "          await google.colab.output.renderOutput(dataTable, element);\n",
              "          const docLink = document.createElement('div');\n",
              "          docLink.innerHTML = docLinkHtml;\n",
              "          element.appendChild(docLink);\n",
              "        }\n",
              "      </script>\n",
              "    </div>\n",
              "  </div>\n",
              "  "
            ]
          },
          "metadata": {},
          "execution_count": 8
        }
      ],
      "source": [
        "data.describe()"
      ]
    },
    {
      "cell_type": "code",
      "execution_count": 9,
      "id": "9c2b70ff",
      "metadata": {
        "execution": {
          "iopub.execute_input": "2021-08-06T11:18:53.854884Z",
          "iopub.status.busy": "2021-08-06T11:18:53.853895Z",
          "iopub.status.idle": "2021-08-06T11:18:53.874514Z",
          "shell.execute_reply": "2021-08-06T11:18:53.875048Z",
          "shell.execute_reply.started": "2021-07-23T03:29:34.381282Z"
        },
        "papermill": {
          "duration": 0.087348,
          "end_time": "2021-08-06T11:18:53.875233",
          "exception": false,
          "start_time": "2021-08-06T11:18:53.787885",
          "status": "completed"
        },
        "tags": [],
        "colab": {
          "base_uri": "https://localhost:8080/"
        },
        "id": "9c2b70ff",
        "outputId": "d3d3cbc2-e013-41b0-c284-2f46a7100ca2"
      },
      "outputs": [
        {
          "output_type": "stream",
          "name": "stdout",
          "text": [
            "<class 'pandas.core.frame.DataFrame'>\n",
            "RangeIndex: 1000 entries, 0 to 999\n",
            "Data columns (total 17 columns):\n",
            " #   Column                   Non-Null Count  Dtype  \n",
            "---  ------                   --------------  -----  \n",
            " 0   Invoice ID               1000 non-null   object \n",
            " 1   Branch                   1000 non-null   object \n",
            " 2   City                     1000 non-null   object \n",
            " 3   Customer type            1000 non-null   object \n",
            " 4   Gender                   1000 non-null   object \n",
            " 5   Product line             1000 non-null   object \n",
            " 6   Unit price               1000 non-null   float64\n",
            " 7   Quantity                 1000 non-null   int64  \n",
            " 8   Tax 5%                   1000 non-null   float64\n",
            " 9   Total                    1000 non-null   float64\n",
            " 10  Date                     1000 non-null   object \n",
            " 11  Time                     1000 non-null   object \n",
            " 12  Payment                  1000 non-null   object \n",
            " 13  cogs                     1000 non-null   float64\n",
            " 14  gross margin percentage  1000 non-null   float64\n",
            " 15  gross income             1000 non-null   float64\n",
            " 16  Rating                   1000 non-null   float64\n",
            "dtypes: float64(7), int64(1), object(9)\n",
            "memory usage: 132.9+ KB\n"
          ]
        }
      ],
      "source": [
        "data.info()"
      ]
    },
    {
      "cell_type": "code",
      "execution_count": 10,
      "id": "c11c9c5c",
      "metadata": {
        "execution": {
          "iopub.execute_input": "2021-08-06T11:18:54.014294Z",
          "iopub.status.busy": "2021-08-06T11:18:54.011875Z",
          "iopub.status.idle": "2021-08-06T11:18:54.047589Z",
          "shell.execute_reply": "2021-08-06T11:18:54.048079Z",
          "shell.execute_reply.started": "2021-07-23T03:29:34.404966Z"
        },
        "papermill": {
          "duration": 0.107949,
          "end_time": "2021-08-06T11:18:54.048256",
          "exception": false,
          "start_time": "2021-08-06T11:18:53.940307",
          "status": "completed"
        },
        "tags": [],
        "colab": {
          "base_uri": "https://localhost:8080/"
        },
        "id": "c11c9c5c",
        "outputId": "e23e9a9d-8ba0-4e19-a2d9-a79494059ecf"
      },
      "outputs": [
        {
          "output_type": "execute_result",
          "data": {
            "text/plain": [
              "Invoice ID   Branch  City       Customer type  Gender  Product line         Unit price  Quantity  Tax 5%   Total     Date       Time   Payment      cogs    gross margin percentage  gross income  Rating\n",
              "101-17-6199  A       Yangon     Normal         Male    Food and beverages   45.79       7         16.0265  336.5565  3/13/2019  19:44  Credit card  320.53  4.761905                 16.0265       7.0       1\n",
              "641-62-7288  B       Mandalay   Normal         Male    Home and lifestyle   99.92       6         29.9760  629.4960  3/24/2019  13:33  Ewallet      599.52  4.761905                 29.9760       7.1       1\n",
              "633-91-1052  A       Yangon     Normal         Female  Home and lifestyle   12.03       2         1.2030   25.2630   1/27/2019  15:51  Cash         24.06   4.761905                 1.2030        5.1       1\n",
              "634-97-8956  A       Yangon     Normal         Male    Food and beverages   32.90       3         4.9350   103.6350  2/17/2019  17:27  Credit card  98.70   4.761905                 4.9350        9.1       1\n",
              "635-28-5728  A       Yangon     Normal         Male    Health and beauty    56.00       3         8.4000   176.4000  2/28/2019  19:33  Ewallet      168.00  4.761905                 8.4000        4.8       1\n",
              "                                                                                                                                                                                                            ..\n",
              "373-14-0504  A       Yangon     Member         Female  Sports and travel    71.63       2         7.1630   150.4230  2/12/2019  14:33  Ewallet      143.26  4.761905                 7.1630        8.8       1\n",
              "373-73-7910  A       Yangon     Normal         Male    Sports and travel    86.31       7         30.2085  634.3785  2/8/2019   10:37  Ewallet      604.17  4.761905                 30.2085       5.3       1\n",
              "373-88-1424  C       Naypyitaw  Member         Male    Home and lifestyle   35.81       5         8.9525   188.0025  2/6/2019   18:44  Ewallet      179.05  4.761905                 8.9525        7.9       1\n",
              "374-17-3652  B       Mandalay   Member         Female  Food and beverages   42.82       9         19.2690  404.6490  2/5/2019   15:26  Credit card  385.38  4.761905                 19.2690       8.9       1\n",
              "898-04-2717  A       Yangon     Normal         Male    Fashion accessories  76.40       9         34.3800  721.9800  3/19/2019  15:49  Ewallet      687.60  4.761905                 34.3800       7.5       1\n",
              "Length: 1000, dtype: int64"
            ]
          },
          "metadata": {},
          "execution_count": 10
        }
      ],
      "source": [
        "data.value_counts()"
      ]
    },
    {
      "cell_type": "code",
      "execution_count": 11,
      "id": "bd7746ad",
      "metadata": {
        "execution": {
          "iopub.execute_input": "2021-08-06T11:18:54.182035Z",
          "iopub.status.busy": "2021-08-06T11:18:54.181383Z",
          "iopub.status.idle": "2021-08-06T11:18:54.186309Z",
          "shell.execute_reply": "2021-08-06T11:18:54.186824Z",
          "shell.execute_reply.started": "2021-07-23T03:29:34.445274Z"
        },
        "papermill": {
          "duration": 0.072955,
          "end_time": "2021-08-06T11:18:54.186998",
          "exception": false,
          "start_time": "2021-08-06T11:18:54.114043",
          "status": "completed"
        },
        "tags": [],
        "colab": {
          "base_uri": "https://localhost:8080/"
        },
        "id": "bd7746ad",
        "outputId": "c4910671-2f04-4662-c447-0ceb7d045baa"
      },
      "outputs": [
        {
          "output_type": "execute_result",
          "data": {
            "text/plain": [
              "(1000, 17)"
            ]
          },
          "metadata": {},
          "execution_count": 11
        }
      ],
      "source": [
        "data.shape"
      ]
    },
    {
      "cell_type": "code",
      "execution_count": 12,
      "id": "e1e02ddb",
      "metadata": {
        "execution": {
          "iopub.execute_input": "2021-08-06T11:18:54.319516Z",
          "iopub.status.busy": "2021-08-06T11:18:54.318907Z",
          "iopub.status.idle": "2021-08-06T11:18:54.325647Z",
          "shell.execute_reply": "2021-08-06T11:18:54.326119Z",
          "shell.execute_reply.started": "2021-07-23T03:29:34.45626Z"
        },
        "papermill": {
          "duration": 0.074376,
          "end_time": "2021-08-06T11:18:54.326290",
          "exception": false,
          "start_time": "2021-08-06T11:18:54.251914",
          "status": "completed"
        },
        "tags": [],
        "colab": {
          "base_uri": "https://localhost:8080/"
        },
        "id": "e1e02ddb",
        "outputId": "4f436bc0-9cf2-426c-ec30-d77d4cbf97f6"
      },
      "outputs": [
        {
          "output_type": "execute_result",
          "data": {
            "text/plain": [
              "Invoice ID                  object\n",
              "Branch                      object\n",
              "City                        object\n",
              "Customer type               object\n",
              "Gender                      object\n",
              "Product line                object\n",
              "Unit price                 float64\n",
              "Quantity                     int64\n",
              "Tax 5%                     float64\n",
              "Total                      float64\n",
              "Date                        object\n",
              "Time                        object\n",
              "Payment                     object\n",
              "cogs                       float64\n",
              "gross margin percentage    float64\n",
              "gross income               float64\n",
              "Rating                     float64\n",
              "dtype: object"
            ]
          },
          "metadata": {},
          "execution_count": 12
        }
      ],
      "source": [
        "data.dtypes\n"
      ]
    },
    {
      "cell_type": "code",
      "execution_count": 13,
      "id": "477ebbea",
      "metadata": {
        "execution": {
          "iopub.execute_input": "2021-08-06T11:18:54.461250Z",
          "iopub.status.busy": "2021-08-06T11:18:54.460555Z",
          "iopub.status.idle": "2021-08-06T11:18:54.466910Z",
          "shell.execute_reply": "2021-08-06T11:18:54.466362Z",
          "shell.execute_reply.started": "2021-07-23T03:29:34.469376Z"
        },
        "papermill": {
          "duration": 0.075026,
          "end_time": "2021-08-06T11:18:54.467064",
          "exception": false,
          "start_time": "2021-08-06T11:18:54.392038",
          "status": "completed"
        },
        "tags": [],
        "colab": {
          "base_uri": "https://localhost:8080/"
        },
        "id": "477ebbea",
        "outputId": "a7be8915-bc9f-4e72-8870-b8f482efe901"
      },
      "outputs": [
        {
          "output_type": "execute_result",
          "data": {
            "text/plain": [
              "Index(['Invoice ID', 'Branch', 'City', 'Customer type', 'Gender',\n",
              "       'Product line', 'Unit price', 'Quantity', 'Tax 5%', 'Total', 'Date',\n",
              "       'Time', 'Payment', 'cogs', 'gross margin percentage', 'gross income',\n",
              "       'Rating'],\n",
              "      dtype='object')"
            ]
          },
          "metadata": {},
          "execution_count": 13
        }
      ],
      "source": [
        "data.columns"
      ]
    },
    {
      "cell_type": "markdown",
      "id": "baeac0dd",
      "metadata": {
        "papermill": {
          "duration": 0.064615,
          "end_time": "2021-08-06T11:18:54.597162",
          "exception": false,
          "start_time": "2021-08-06T11:18:54.532547",
          "status": "completed"
        },
        "tags": [],
        "id": "baeac0dd"
      },
      "source": [
        "**Checking Null Value**"
      ]
    },
    {
      "cell_type": "code",
      "execution_count": 14,
      "id": "cb5cb76d",
      "metadata": {
        "execution": {
          "iopub.execute_input": "2021-08-06T11:18:54.738753Z",
          "iopub.status.busy": "2021-08-06T11:18:54.737731Z",
          "iopub.status.idle": "2021-08-06T11:18:54.741392Z",
          "shell.execute_reply": "2021-08-06T11:18:54.741899Z",
          "shell.execute_reply.started": "2021-07-23T03:29:34.481551Z"
        },
        "papermill": {
          "duration": 0.078146,
          "end_time": "2021-08-06T11:18:54.742077",
          "exception": false,
          "start_time": "2021-08-06T11:18:54.663931",
          "status": "completed"
        },
        "tags": [],
        "colab": {
          "base_uri": "https://localhost:8080/"
        },
        "id": "cb5cb76d",
        "outputId": "d2571ed0-7e4a-4fbf-b7a1-21b275f9f14d"
      },
      "outputs": [
        {
          "output_type": "execute_result",
          "data": {
            "text/plain": [
              "Invoice ID                 0\n",
              "Branch                     0\n",
              "City                       0\n",
              "Customer type              0\n",
              "Gender                     0\n",
              "Product line               0\n",
              "Unit price                 0\n",
              "Quantity                   0\n",
              "Tax 5%                     0\n",
              "Total                      0\n",
              "Date                       0\n",
              "Time                       0\n",
              "Payment                    0\n",
              "cogs                       0\n",
              "gross margin percentage    0\n",
              "gross income               0\n",
              "Rating                     0\n",
              "dtype: int64"
            ]
          },
          "metadata": {},
          "execution_count": 14
        }
      ],
      "source": [
        "data.isnull().sum()\n"
      ]
    },
    {
      "cell_type": "code",
      "execution_count": 15,
      "id": "18ca7fd6",
      "metadata": {
        "execution": {
          "iopub.execute_input": "2021-08-06T11:18:54.879321Z",
          "iopub.status.busy": "2021-08-06T11:18:54.878280Z",
          "iopub.status.idle": "2021-08-06T11:18:54.888369Z",
          "shell.execute_reply": "2021-08-06T11:18:54.889022Z",
          "shell.execute_reply.started": "2021-07-23T03:29:34.500145Z"
        },
        "papermill": {
          "duration": 0.080569,
          "end_time": "2021-08-06T11:18:54.889226",
          "exception": false,
          "start_time": "2021-08-06T11:18:54.808657",
          "status": "completed"
        },
        "tags": [],
        "colab": {
          "base_uri": "https://localhost:8080/"
        },
        "id": "18ca7fd6",
        "outputId": "b8467526-db18-48ab-b700-66c40ca1fde0"
      },
      "outputs": [
        {
          "output_type": "execute_result",
          "data": {
            "text/plain": [
              "Invoice ID                 False\n",
              "Branch                     False\n",
              "City                       False\n",
              "Customer type              False\n",
              "Gender                     False\n",
              "Product line               False\n",
              "Unit price                 False\n",
              "Quantity                   False\n",
              "Tax 5%                     False\n",
              "Total                      False\n",
              "Date                       False\n",
              "Time                       False\n",
              "Payment                    False\n",
              "cogs                       False\n",
              "gross margin percentage    False\n",
              "gross income               False\n",
              "Rating                     False\n",
              "dtype: bool"
            ]
          },
          "metadata": {},
          "execution_count": 15
        }
      ],
      "source": [
        "data.isnull().any()\n"
      ]
    },
    {
      "cell_type": "markdown",
      "id": "863db90c",
      "metadata": {
        "papermill": {
          "duration": 0.067095,
          "end_time": "2021-08-06T11:18:55.022753",
          "exception": false,
          "start_time": "2021-08-06T11:18:54.955658",
          "status": "completed"
        },
        "tags": [],
        "id": "863db90c"
      },
      "source": [
        "# **Visualisasi Data**"
      ]
    },
    {
      "cell_type": "markdown",
      "id": "8ec246a2",
      "metadata": {
        "papermill": {
          "duration": 0.065735,
          "end_time": "2021-08-06T11:18:55.154779",
          "exception": false,
          "start_time": "2021-08-06T11:18:55.089044",
          "status": "completed"
        },
        "tags": [],
        "id": "8ec246a2"
      },
      "source": [
        "**HISTOGRAM**\n",
        "\n",
        "Histogram pada dasarnya digunakan untuk mewakili data yang disediakan dalam bentuk beberapa grup. Ini adalah metode yang akurat untuk representasi grafis dari distribusi data numerik. Ini adalah jenis plot batang di mana sumbu X mewakili rentang bin sementara sumbu Y memberikan informasi tentang frekuensi."
      ]
    },
    {
      "cell_type": "code",
      "execution_count": 16,
      "id": "5eaea66d",
      "metadata": {
        "execution": {
          "iopub.execute_input": "2021-08-06T11:18:55.292304Z",
          "iopub.status.busy": "2021-08-06T11:18:55.291323Z",
          "iopub.status.idle": "2021-08-06T11:18:56.575741Z",
          "shell.execute_reply": "2021-08-06T11:18:56.574933Z",
          "shell.execute_reply.started": "2021-07-23T03:29:34.516391Z"
        },
        "papermill": {
          "duration": 1.353898,
          "end_time": "2021-08-06T11:18:56.575904",
          "exception": false,
          "start_time": "2021-08-06T11:18:55.222006",
          "status": "completed"
        },
        "tags": [],
        "colab": {
          "base_uri": "https://localhost:8080/",
          "height": 782
        },
        "id": "5eaea66d",
        "outputId": "f73b627c-1f10-4396-902c-3aa202a8baa7"
      },
      "outputs": [
        {
          "output_type": "display_data",
          "data": {
            "text/plain": [
              "<Figure size 1440x1008 with 9 Axes>"
            ],
            "image/png": "[encoded data removed]"
          },
          "metadata": {
            "needs_background": "light"
          }
        }
      ],
      "source": [
        "data.hist(figsize=(20,14))\n",
        "plt.show()\n"
      ]
    },
    {
      "cell_type": "code",
      "execution_count": 17,
      "id": "03fa28cb",
      "metadata": {
        "execution": {
          "iopub.execute_input": "2021-08-06T11:18:56.718065Z",
          "iopub.status.busy": "2021-08-06T11:18:56.717380Z",
          "iopub.status.idle": "2021-08-06T11:18:56.734217Z",
          "shell.execute_reply": "2021-08-06T11:18:56.733527Z",
          "shell.execute_reply.started": "2021-07-23T03:29:35.804746Z"
        },
        "papermill": {
          "duration": 0.090332,
          "end_time": "2021-08-06T11:18:56.734366",
          "exception": false,
          "start_time": "2021-08-06T11:18:56.644034",
          "status": "completed"
        },
        "tags": [],
        "colab": {
          "base_uri": "https://localhost:8080/",
          "height": 300
        },
        "id": "03fa28cb",
        "outputId": "776f4b69-0864-4746-d415-29ea50b68b6e"
      },
      "outputs": [
        {
          "output_type": "execute_result",
          "data": {
            "text/plain": [
              "                         Unit price  Quantity    Tax 5%     Total      cogs  \\\n",
              "Unit price                 1.000000  0.010778  0.633962  0.633962  0.633962   \n",
              "Quantity                   0.010778  1.000000  0.705510  0.705510  0.705510   \n",
              "Tax 5%                     0.633962  0.705510  1.000000  1.000000  1.000000   \n",
              "Total                      0.633962  0.705510  1.000000  1.000000  1.000000   \n",
              "cogs                       0.633962  0.705510  1.000000  1.000000  1.000000   \n",
              "gross margin percentage         NaN       NaN       NaN       NaN       NaN   \n",
              "gross income               0.633962  0.705510  1.000000  1.000000  1.000000   \n",
              "Rating                    -0.008778 -0.015815 -0.036442 -0.036442 -0.036442   \n",
              "\n",
              "                         gross margin percentage  gross income    Rating  \n",
              "Unit price                                   NaN      0.633962 -0.008778  \n",
              "Quantity                                     NaN      0.705510 -0.015815  \n",
              "Tax 5%                                       NaN      1.000000 -0.036442  \n",
              "Total                                        NaN      1.000000 -0.036442  \n",
              "cogs                                         NaN      1.000000 -0.036442  \n",
              "gross margin percentage                      NaN           NaN       NaN  \n",
              "gross income                                 NaN      1.000000 -0.036442  \n",
              "Rating                                       NaN     -0.036442  1.000000  "
            ],
            "text/html": [
              "\n",
              "  <div id=\"df-9787619c-7374-4690-be39-d9ac9b641173\">\n",
              "    <div class=\"colab-df-container\">\n",
              "      <div>\n",
              "<style scoped>\n",
              "    .dataframe tbody tr th:only-of-type {\n",
              "        vertical-align: middle;\n",
              "    }\n",
              "\n",
              "    .dataframe tbody tr th {\n",
              "        vertical-align: top;\n",
              "    }\n",
              "\n",
              "    .dataframe thead th {\n",
              "        text-align: right;\n",
              "    }\n",
              "</style>\n",
              "<table border=\"1\" class=\"dataframe\">\n",
              "  <thead>\n",
              "    <tr style=\"text-align: right;\">\n",
              "      <th></th>\n",
              "      <th>Unit price</th>\n",
              "      <th>Quantity</th>\n",
              "      <th>Tax 5%</th>\n",
              "      <th>Total</th>\n",
              "      <th>cogs</th>\n",
              "      <th>gross margin percentage</th>\n",
              "      <th>gross income</th>\n",
              "      <th>Rating</th>\n",
              "    </tr>\n",
              "  </thead>\n",
              "  <tbody>\n",
              "    <tr>\n",
              "      <th>Unit price</th>\n",
              "      <td>1.000000</td>\n",
              "      <td>0.010778</td>\n",
              "      <td>0.633962</td>\n",
              "      <td>0.633962</td>\n",
              "      <td>0.633962</td>\n",
              "      <td>NaN</td>\n",
              "      <td>0.633962</td>\n",
              "      <td>-0.008778</td>\n",
              "    </tr>\n",
              "    <tr>\n",
              "      <th>Quantity</th>\n",
              "      <td>0.010778</td>\n",
              "      <td>1.000000</td>\n",
              "      <td>0.705510</td>\n",
              "      <td>0.705510</td>\n",
              "      <td>0.705510</td>\n",
              "      <td>NaN</td>\n",
              "      <td>0.705510</td>\n",
              "      <td>-0.015815</td>\n",
              "    </tr>\n",
              "    <tr>\n",
              "      <th>Tax 5%</th>\n",
              "      <td>0.633962</td>\n",
              "      <td>0.705510</td>\n",
              "      <td>1.000000</td>\n",
              "      <td>1.000000</td>\n",
              "      <td>1.000000</td>\n",
              "      <td>NaN</td>\n",
              "      <td>1.000000</td>\n",
              "      <td>-0.036442</td>\n",
              "    </tr>\n",
              "    <tr>\n",
              "      <th>Total</th>\n",
              "      <td>0.633962</td>\n",
              "      <td>0.705510</td>\n",
              "      <td>1.000000</td>\n",
              "      <td>1.000000</td>\n",
              "      <td>1.000000</td>\n",
              "      <td>NaN</td>\n",
              "      <td>1.000000</td>\n",
              "      <td>-0.036442</td>\n",
              "    </tr>\n",
              "    <tr>\n",
              "      <th>cogs</th>\n",
              "      <td>0.633962</td>\n",
              "      <td>0.705510</td>\n",
              "      <td>1.000000</td>\n",
              "      <td>1.000000</td>\n",
              "      <td>1.000000</td>\n",
              "      <td>NaN</td>\n",
              "      <td>1.000000</td>\n",
              "      <td>-0.036442</td>\n",
              "    </tr>\n",
              "    <tr>\n",
              "      <th>gross margin percentage</th>\n",
              "      <td>NaN</td>\n",
              "      <td>NaN</td>\n",
              "      <td>NaN</td>\n",
              "      <td>NaN</td>\n",
              "      <td>NaN</td>\n",
              "      <td>NaN</td>\n",
              "      <td>NaN</td>\n",
              "      <td>NaN</td>\n",
              "    </tr>\n",
              "    <tr>\n",
              "      <th>gross income</th>\n",
              "      <td>0.633962</td>\n",
              "      <td>0.705510</td>\n",
              "      <td>1.000000</td>\n",
              "      <td>1.000000</td>\n",
              "      <td>1.000000</td>\n",
              "      <td>NaN</td>\n",
              "      <td>1.000000</td>\n",
              "      <td>-0.036442</td>\n",
              "    </tr>\n",
              "    <tr>\n",
              "      <th>Rating</th>\n",
              "      <td>-0.008778</td>\n",
              "      <td>-0.015815</td>\n",
              "      <td>-0.036442</td>\n",
              "      <td>-0.036442</td>\n",
              "      <td>-0.036442</td>\n",
              "      <td>NaN</td>\n",
              "      <td>-0.036442</td>\n",
              "      <td>1.000000</td>\n",
              "    </tr>\n",
              "  </tbody>\n",
              "</table>\n",
              "</div>\n",
              "      <button class=\"colab-df-convert\" onclick=\"convertToInteractive('df-9787619c-7374-4690-be39-d9ac9b641173')\"\n",
              "              title=\"Convert this dataframe to an interactive table.\"\n",
              "              style=\"display:none;\">\n",
              "        \n",
              "  <svg xmlns=\"http://www.w3.org/2000/svg\" height=\"24px\"viewBox=\"0 0 24 24\"\n",
              "       width=\"24px\">\n",
              "    <path d=\"M0 0h24v24H0V0z\" fill=\"none\"/>\n",
              "    <path d=\"M18.56 5.44l.94 2.06.94-2.06 2.06-.94-2.06-.94-.94-2.06-.94 2.06-2.06.94zm-11 1L8.5 8.5l.94-2.06 2.06-.94-2.06-.94L8.5 2.5l-.94 2.06-2.06.94zm10 10l.94 2.06.94-2.06 2.06-.94-2.06-.94-.94-2.06-.94 2.06-2.06.94z\"/><path d=\"M17.41 7.96l-1.37-1.37c-.4-.4-.92-.59-1.43-.59-.52 0-1.04.2-1.43.59L10.3 9.45l-7.72 7.72c-.78.78-.78 2.05 0 2.83L4 21.41c.39.39.9.59 1.41.59.51 0 1.02-.2 1.41-.59l7.78-7.78 2.81-2.81c.8-.78.8-2.07 0-2.86zM5.41 20L4 18.59l7.72-7.72 1.47 1.35L5.41 20z\"/>\n",
              "  </svg>\n",
              "      </button>\n",
              "      \n",
              "  <style>\n",
              "    .colab-df-container {\n",
              "      display:flex;\n",
              "      flex-wrap:wrap;\n",
              "      gap: 12px;\n",
              "    }\n",
              "\n",
              "    .colab-df-convert {\n",
              "      background-color: #E8F0FE;\n",
              "      border: none;\n",
              "      border-radius: 50%;\n",
              "      cursor: pointer;\n",
              "      display: none;\n",
              "      fill: #1967D2;\n",
              "      height: 32px;\n",
              "      padding: 0 0 0 0;\n",
              "      width: 32px;\n",
              "    }\n",
              "\n",
              "    .colab-df-convert:hover {\n",
              "      background-color: #E2EBFA;\n",
              "      box-shadow: 0px 1px 2px rgba(60, 64, 67, 0.3), 0px 1px 3px 1px rgba(60, 64, 67, 0.15);\n",
              "      fill: #174EA6;\n",
              "    }\n",
              "\n",
              "    [theme=dark] .colab-df-convert {\n",
              "      background-color: #3B4455;\n",
              "      fill: #D2E3FC;\n",
              "    }\n",
              "\n",
              "    [theme=dark] .colab-df-convert:hover {\n",
              "      background-color: #434B5C;\n",
              "      box-shadow: 0px 1px 3px 1px rgba(0, 0, 0, 0.15);\n",
              "      filter: drop-shadow(0px 1px 2px rgba(0, 0, 0, 0.3));\n",
              "      fill: #FFFFFF;\n",
              "    }\n",
              "  </style>\n",
              "\n",
              "      <script>\n",
              "        const buttonEl =\n",
              "          document.querySelector('#df-9787619c-7374-4690-be39-d9ac9b641173 button.colab-df-convert');\n",
              "        buttonEl.style.display =\n",
              "          google.colab.kernel.accessAllowed ? 'block' : 'none';\n",
              "\n",
              "        async function convertToInteractive(key) {\n",
              "          const element = document.querySelector('#df-9787619c-7374-4690-be39-d9ac9b641173');\n",
              "          const dataTable =\n",
              "            await google.colab.kernel.invokeFunction('convertToInteractive',\n",
              "                                                     [key], {});\n",
              "          if (!dataTable) return;\n",
              "\n",
              "          const docLinkHtml = 'Like what you see? Visit the ' +\n",
              "            '<a target=\"_blank\" href=https://colab.research.google.com/notebooks/data_table.ipynb>data table notebook</a>'\n",
              "            + ' to learn more about interactive tables.';\n",
              "          element.innerHTML = '';\n",
              "          dataTable['output_type'] = 'display_data';\n",
              "          await google.colab.output.renderOutput(dataTable, element);\n",
              "          const docLink = document.createElement('div');\n",
              "          docLink.innerHTML = docLinkHtml;\n",
              "          element.appendChild(docLink);\n",
              "        }\n",
              "      </script>\n",
              "    </div>\n",
              "  </div>\n",
              "  "
            ]
          },
          "metadata": {},
          "execution_count": 17
        }
      ],
      "source": [
        "data.corr()"
      ]
    },
    {
      "cell_type": "markdown",
      "id": "30c42d58",
      "metadata": {
        "papermill": {
          "duration": 0.0684,
          "end_time": "2021-08-06T11:18:57.008469",
          "exception": false,
          "start_time": "2021-08-06T11:18:56.940069",
          "status": "completed"
        },
        "tags": [],
        "id": "30c42d58"
      },
      "source": [
        "**HEATMAP**\n",
        "\n",
        "Heatmap adalah representasi grafis dari data yang menggunakan sistem kode warna untuk mewakili nilai yang berbeda. Peta panas digunakan dalam berbagai bentuk analitik, tetapi paling sering digunakan untuk menunjukkan perilaku pengguna pada halaman web atau template halaman web tertentu.\n"
      ]
    },
    {
      "cell_type": "code",
      "execution_count": 18,
      "id": "3c7448b7",
      "metadata": {
        "execution": {
          "iopub.execute_input": "2021-08-06T11:18:57.148759Z",
          "iopub.status.busy": "2021-08-06T11:18:57.148012Z",
          "iopub.status.idle": "2021-08-06T11:18:57.727748Z",
          "shell.execute_reply": "2021-08-06T11:18:57.727168Z",
          "shell.execute_reply.started": "2021-07-23T03:29:35.826036Z"
        },
        "papermill": {
          "duration": 0.650969,
          "end_time": "2021-08-06T11:18:57.727909",
          "exception": false,
          "start_time": "2021-08-06T11:18:57.076940",
          "status": "completed"
        },
        "tags": [],
        "colab": {
          "base_uri": "https://localhost:8080/",
          "height": 729
        },
        "id": "3c7448b7",
        "outputId": "9f4fcd41-bbb5-4c77-efe5-efd9bb086fd3"
      },
      "outputs": [
        {
          "output_type": "execute_result",
          "data": {
            "text/plain": [
              "<matplotlib.axes._subplots.AxesSubplot at 0x7fbd42da0a10>"
            ]
          },
          "metadata": {},
          "execution_count": 18
        },
        {
          "output_type": "display_data",
          "data": {
            "text/plain": [
              "<Figure size 864x720 with 2 Axes>"
            ],
            "image/png": "[encoded data removed]"
          },
          "metadata": {
            "needs_background": "light"
          }
        }
      ],
      "source": [
        "plt.figure(figsize = (12,10))\n",
        "\n",
        "sns.heatmap(data.corr(), annot =True)\n",
        "\n"
      ]
    },
    {
      "cell_type": "code",
      "execution_count": 19,
      "id": "b6b9ec7d",
      "metadata": {
        "execution": {
          "iopub.execute_input": "2021-08-06T11:18:57.875454Z",
          "iopub.status.busy": "2021-08-06T11:18:57.874757Z",
          "iopub.status.idle": "2021-08-06T11:18:57.877869Z",
          "shell.execute_reply": "2021-08-06T11:18:57.878342Z",
          "shell.execute_reply.started": "2021-07-23T03:29:36.463346Z"
        },
        "papermill": {
          "duration": 0.080358,
          "end_time": "2021-08-06T11:18:57.878520",
          "exception": false,
          "start_time": "2021-08-06T11:18:57.798162",
          "status": "completed"
        },
        "tags": [],
        "colab": {
          "base_uri": "https://localhost:8080/"
        },
        "id": "b6b9ec7d",
        "outputId": "18525fea-3401-4501-9838-9adebfddeced"
      },
      "outputs": [
        {
          "output_type": "execute_result",
          "data": {
            "text/plain": [
              "Index(['Invoice ID', 'Branch', 'City', 'Customer type', 'Gender',\n",
              "       'Product line', 'Unit price', 'Quantity', 'Tax 5%', 'Total', 'Date',\n",
              "       'Time', 'Payment', 'cogs', 'gross margin percentage', 'gross income',\n",
              "       'Rating'],\n",
              "      dtype='object')"
            ]
          },
          "metadata": {},
          "execution_count": 19
        }
      ],
      "source": [
        "data.columns"
      ]
    },
    {
      "cell_type": "markdown",
      "id": "ee32502c",
      "metadata": {
        "papermill": {
          "duration": 0.072291,
          "end_time": "2021-08-06T11:18:58.022481",
          "exception": false,
          "start_time": "2021-08-06T11:18:57.950190",
          "status": "completed"
        },
        "tags": [],
        "id": "ee32502c"
      },
      "source": [
        "**BOXPLOT**\n",
        "\n",
        "Boxplot adalah cara standar untuk menampilkan distribusi data berdasarkan ringkasan lima angka (\"minimum\", kuartil pertama (Q1), median, kuartil ketiga (Q3), dan \"maksimum\"). ... Itu juga dapat memberi tahu Anda jika data Anda simetris.\n",
        "\n"
      ]
    },
    {
      "cell_type": "code",
      "execution_count": 20,
      "id": "e185a22e",
      "metadata": {
        "execution": {
          "iopub.execute_input": "2021-08-06T11:18:58.171513Z",
          "iopub.status.busy": "2021-08-06T11:18:58.170842Z",
          "iopub.status.idle": "2021-08-06T11:18:59.163610Z",
          "shell.execute_reply": "2021-08-06T11:18:59.164137Z",
          "shell.execute_reply.started": "2021-07-23T03:29:36.471031Z"
        },
        "papermill": {
          "duration": 1.068288,
          "end_time": "2021-08-06T11:18:59.164320",
          "exception": false,
          "start_time": "2021-08-06T11:18:58.096032",
          "status": "completed"
        },
        "tags": [],
        "colab": {
          "base_uri": "https://localhost:8080/",
          "height": 624
        },
        "id": "e185a22e",
        "outputId": "411cbd2c-8d9b-457a-c96b-03473c9426e1"
      },
      "outputs": [
        {
          "output_type": "execute_result",
          "data": {
            "text/plain": [
              "<matplotlib.axes._subplots.AxesSubplot at 0x7fbd42d7ad10>"
            ]
          },
          "metadata": {},
          "execution_count": 20
        },
        {
          "output_type": "display_data",
          "data": {
            "text/plain": [
              "<Figure size 1008x720 with 6 Axes>"
            ],
            "image/png": "[encoded data removed]"
          },
          "metadata": {
            "needs_background": "light"
          }
        }
      ],
      "source": [
        "plt.figure(figsize=(14,10))\n",
        "sns.set_style(style='whitegrid')\n",
        "plt.subplot(2,3,1)\n",
        "sns.boxplot(x='Unit price',data=data)\n",
        "plt.subplot(2,3,2)\n",
        "sns.boxplot(x='Quantity',data=data)\n",
        "plt.subplot(2,3,3)\n",
        "sns.boxplot(x='Total',data=data)\n",
        "plt.subplot(2,3,4)\n",
        "sns.boxplot(x='cogs',data=data)\n",
        "plt.subplot(2,3,5)\n",
        "sns.boxplot(x='Rating',data=data)\n",
        "plt.subplot(2,3,6)\n",
        "sns.boxplot(x='gross income',data=data)\n",
        "\n",
        "\n"
      ]
    },
    {
      "cell_type": "markdown",
      "id": "92555fdb",
      "metadata": {
        "papermill": {
          "duration": 0.097035,
          "end_time": "2021-08-06T11:19:14.612165",
          "exception": false,
          "start_time": "2021-08-06T11:19:14.515130",
          "status": "completed"
        },
        "tags": [],
        "id": "92555fdb"
      },
      "source": [
        "**SCATTER PLOT**\n",
        "\n",
        "Scatter Plot (alias bagan sebar, grafik sebar) menggunakan titik untuk mewakili nilai untuk dua variabel numerik yang berbeda. Posisi setiap titik pada sumbu horizontal dan vertikal menunjukkan nilai untuk titik data individual. Scatter Plot digunakan untuk mengamati hubungan antar variabel.\n",
        "\n"
      ]
    },
    {
      "cell_type": "code",
      "execution_count": 21,
      "id": "d0f27bdf",
      "metadata": {
        "execution": {
          "iopub.execute_input": "2021-08-06T11:19:14.813704Z",
          "iopub.status.busy": "2021-08-06T11:19:14.812994Z",
          "iopub.status.idle": "2021-08-06T11:19:15.256709Z",
          "shell.execute_reply": "2021-08-06T11:19:15.256007Z",
          "shell.execute_reply.started": "2021-07-23T03:29:51.667313Z"
        },
        "papermill": {
          "duration": 0.547723,
          "end_time": "2021-08-06T11:19:15.256861",
          "exception": false,
          "start_time": "2021-08-06T11:19:14.709138",
          "status": "completed"
        },
        "tags": [],
        "colab": {
          "base_uri": "https://localhost:8080/",
          "height": 297
        },
        "id": "d0f27bdf",
        "outputId": "a88cbd05-f90e-4088-c0f9-ee5443e899cd"
      },
      "outputs": [
        {
          "output_type": "execute_result",
          "data": {
            "text/plain": [
              "<matplotlib.axes._subplots.AxesSubplot at 0x7fbd42f9f7d0>"
            ]
          },
          "metadata": {},
          "execution_count": 21
        },
        {
          "output_type": "display_data",
          "data": {
            "text/plain": [
              "<Figure size 432x288 with 1 Axes>"
            ],
            "image/png": "[encoded data removed]"
          },
          "metadata": {}
        }
      ],
      "source": [
        "sns.scatterplot(x='Rating', y= 'cogs', data=data)"
      ]
    },
    {
      "cell_type": "markdown",
      "id": "d36925ad",
      "metadata": {
        "papermill": {
          "duration": 0.100757,
          "end_time": "2021-08-06T11:19:16.476828",
          "exception": false,
          "start_time": "2021-08-06T11:19:16.376071",
          "status": "completed"
        },
        "tags": [],
        "id": "d36925ad"
      },
      "source": [
        "**CATPLOT**\n",
        "\n",
        "Catplot adalah tambahan yang relatif baru untuk Seaborn yang menyederhanakan pembuatan plot yang melibatkan variabel kategorikal. Dalam versi Seaborn v0. 9.0 yang keluar pada Juli 2018, mengubah plot faktor lama menjadi catplot agar lebih konsisten dengan terminologi di panda dan di seaborn."
      ]
    },
    {
      "cell_type": "code",
      "execution_count": 22,
      "id": "3ef020a6",
      "metadata": {
        "execution": {
          "iopub.execute_input": "2021-08-06T11:19:16.683365Z",
          "iopub.status.busy": "2021-08-06T11:19:16.682751Z",
          "iopub.status.idle": "2021-08-06T11:19:20.071868Z",
          "shell.execute_reply": "2021-08-06T11:19:20.072389Z",
          "shell.execute_reply.started": "2021-07-23T03:29:52.786018Z"
        },
        "papermill": {
          "duration": 3.494157,
          "end_time": "2021-08-06T11:19:20.072562",
          "exception": false,
          "start_time": "2021-08-06T11:19:16.578405",
          "status": "completed"
        },
        "tags": [],
        "colab": {
          "base_uri": "https://localhost:8080/",
          "height": 387
        },
        "id": "3ef020a6",
        "outputId": "135a8674-8129-4cb0-c37e-6209cd39329e"
      },
      "outputs": [
        {
          "output_type": "execute_result",
          "data": {
            "text/plain": [
              "<seaborn.axisgrid.FacetGrid at 0x7fbd42bba690>"
            ]
          },
          "metadata": {},
          "execution_count": 22
        },
        {
          "output_type": "display_data",
          "data": {
            "text/plain": [
              "<Figure size 360x360 with 1 Axes>"
            ],
            "image/png": "[encoded data removed]"
          },
          "metadata": {}
        }
      ],
      "source": [
        "sns.catplot(x='Rating', y= 'cogs', data=data)"
      ]
    },
    {
      "cell_type": "markdown",
      "source": [
        "**LINEPLOT**\n",
        "\n",
        "Line Plot dapat didefinisikan sebagai grafik yang menampilkan data sebagai titik atau tanda centang di atas garis angka, menunjukkan frekuensi setiap nilai."
      ],
      "metadata": {
        "id": "KTNZloW9FNNe"
      },
      "id": "KTNZloW9FNNe"
    },
    {
      "cell_type": "code",
      "execution_count": 23,
      "id": "d91d3554",
      "metadata": {
        "execution": {
          "iopub.execute_input": "2021-08-06T11:19:23.561355Z",
          "iopub.status.busy": "2021-08-06T11:19:23.541760Z",
          "iopub.status.idle": "2021-08-06T11:19:25.565747Z",
          "shell.execute_reply": "2021-08-06T11:19:25.566223Z",
          "shell.execute_reply.started": "2021-07-23T03:29:57.96338Z"
        },
        "papermill": {
          "duration": 2.143239,
          "end_time": "2021-08-06T11:19:25.566400",
          "exception": false,
          "start_time": "2021-08-06T11:19:23.423161",
          "status": "completed"
        },
        "tags": [],
        "colab": {
          "base_uri": "https://localhost:8080/",
          "height": 297
        },
        "id": "d91d3554",
        "outputId": "0cf2efeb-bd77-4198-f5f2-f9af1a0985f1"
      },
      "outputs": [
        {
          "output_type": "execute_result",
          "data": {
            "text/plain": [
              "<matplotlib.axes._subplots.AxesSubplot at 0x7fbd42f26710>"
            ]
          },
          "metadata": {},
          "execution_count": 23
        },
        {
          "output_type": "display_data",
          "data": {
            "text/plain": [
              "<Figure size 432x288 with 1 Axes>"
            ],
            "image/png": "[encoded data removed]"
          },
          "metadata": {}
        }
      ],
      "source": [
        "sns.lineplot(x='Rating', y= 'Unit price', data=data)"
      ]
    },
    {
      "cell_type": "markdown",
      "id": "029b6063",
      "metadata": {
        "papermill": {
          "duration": 0.11638,
          "end_time": "2021-08-06T11:19:25.800509",
          "exception": false,
          "start_time": "2021-08-06T11:19:25.684129",
          "status": "completed"
        },
        "tags": [],
        "id": "029b6063"
      },
      "source": [
        "**BARPLOT**\n",
        "\n",
        "Barplot (atau barchart) adalah salah satu jenis grafik yang paling umum. Ini menunjukkan hubungan antara numerik dan variabel kategori. Setiap entitas dari variabel kategori direpresentasikan sebagai batang. Ukuran bilah mewakili nilai numeriknya.\n"
      ]
    },
    {
      "cell_type": "code",
      "execution_count": 24,
      "id": "0a04a752",
      "metadata": {
        "execution": {
          "iopub.execute_input": "2021-08-06T11:19:26.041163Z",
          "iopub.status.busy": "2021-08-06T11:19:26.040164Z",
          "iopub.status.idle": "2021-08-06T11:19:26.231734Z",
          "shell.execute_reply": "2021-08-06T11:19:26.232302Z",
          "shell.execute_reply.started": "2021-07-23T03:29:59.95219Z"
        },
        "papermill": {
          "duration": 0.317454,
          "end_time": "2021-08-06T11:19:26.232488",
          "exception": false,
          "start_time": "2021-08-06T11:19:25.915034",
          "status": "completed"
        },
        "tags": [],
        "colab": {
          "base_uri": "https://localhost:8080/",
          "height": 489
        },
        "id": "0a04a752",
        "outputId": "dd1df3a8-76bb-44b6-cc90-397467aeac21"
      },
      "outputs": [
        {
          "output_type": "display_data",
          "data": {
            "text/plain": [
              "<Figure size 500x500 with 1 Axes>"
            ],
            "image/png": "[encoded data removed]"
          },
          "metadata": {}
        }
      ],
      "source": [
        "plt.style.use(\"default\")\n",
        "plt.figure(figsize=(5,5))\n",
        "sns.barplot(x=\"Rating\", y=\"Unit price\", data=data[170:180])\n",
        "plt.title(\"Rating vs Unit Price\",fontsize=15)\n",
        "plt.xlabel(\"Rating\")\n",
        "plt.ylabel(\"Unit Price\")\n",
        "plt.show()\n"
      ]
    },
    {
      "cell_type": "code",
      "execution_count": 25,
      "id": "f4fa3b36",
      "metadata": {
        "execution": {
          "iopub.execute_input": "2021-08-06T11:19:26.469314Z",
          "iopub.status.busy": "2021-08-06T11:19:26.468261Z",
          "iopub.status.idle": "2021-08-06T11:19:26.475959Z",
          "shell.execute_reply": "2021-08-06T11:19:26.475371Z",
          "shell.execute_reply.started": "2021-07-23T03:30:00.151711Z"
        },
        "papermill": {
          "duration": 0.127988,
          "end_time": "2021-08-06T11:19:26.476099",
          "exception": false,
          "start_time": "2021-08-06T11:19:26.348111",
          "status": "completed"
        },
        "tags": [],
        "colab": {
          "base_uri": "https://localhost:8080/"
        },
        "id": "f4fa3b36",
        "outputId": "7e6e231a-1b45-45dc-cdae-ee8c7c3c1c4c"
      },
      "outputs": [
        {
          "output_type": "execute_result",
          "data": {
            "text/plain": [
              "Index(['Invoice ID', 'Branch', 'City', 'Customer type', 'Gender',\n",
              "       'Product line', 'Unit price', 'Quantity', 'Tax 5%', 'Total', 'Date',\n",
              "       'Time', 'Payment', 'cogs', 'gross margin percentage', 'gross income',\n",
              "       'Rating'],\n",
              "      dtype='object')"
            ]
          },
          "metadata": {},
          "execution_count": 25
        }
      ],
      "source": [
        "data.columns"
      ]
    },
    {
      "cell_type": "code",
      "execution_count": 26,
      "id": "177d5f88",
      "metadata": {
        "execution": {
          "iopub.execute_input": "2021-08-06T11:19:26.727813Z",
          "iopub.status.busy": "2021-08-06T11:19:26.726658Z",
          "iopub.status.idle": "2021-08-06T11:19:26.874658Z",
          "shell.execute_reply": "2021-08-06T11:19:26.874049Z",
          "shell.execute_reply.started": "2021-07-23T03:30:00.160978Z"
        },
        "papermill": {
          "duration": 0.280515,
          "end_time": "2021-08-06T11:19:26.874800",
          "exception": false,
          "start_time": "2021-08-06T11:19:26.594285",
          "status": "completed"
        },
        "tags": [],
        "colab": {
          "base_uri": "https://localhost:8080/",
          "height": 489
        },
        "id": "177d5f88",
        "outputId": "9411b26e-ee3d-4924-de7d-f6b531c86d9d"
      },
      "outputs": [
        {
          "output_type": "display_data",
          "data": {
            "text/plain": [
              "<Figure size 500x500 with 1 Axes>"
            ],
            "image/png": "[encoded data removed]"
          },
          "metadata": {}
        }
      ],
      "source": [
        "plt.style.use(\"default\")\n",
        "plt.figure(figsize=(5,5))\n",
        "sns.barplot(x=\"Rating\", y=\"Gender\", data=data[170:180])\n",
        "plt.title(\"Rating vs Gender\",fontsize=15)\n",
        "plt.xlabel(\"Rating\")\n",
        "plt.ylabel(\"Gender\")\n",
        "plt.show()"
      ]
    },
    {
      "cell_type": "code",
      "execution_count": 27,
      "id": "18152153",
      "metadata": {
        "execution": {
          "iopub.execute_input": "2021-08-06T11:19:27.177030Z",
          "iopub.status.busy": "2021-08-06T11:19:27.174615Z",
          "iopub.status.idle": "2021-08-06T11:19:27.336172Z",
          "shell.execute_reply": "2021-08-06T11:19:27.335414Z",
          "shell.execute_reply.started": "2021-07-23T03:30:00.32137Z"
        },
        "papermill": {
          "duration": 0.341123,
          "end_time": "2021-08-06T11:19:27.336329",
          "exception": false,
          "start_time": "2021-08-06T11:19:26.995206",
          "status": "completed"
        },
        "tags": [],
        "colab": {
          "base_uri": "https://localhost:8080/",
          "height": 489
        },
        "id": "18152153",
        "outputId": "db1595a0-8754-4dd5-81aa-e1d21f831427"
      },
      "outputs": [
        {
          "output_type": "display_data",
          "data": {
            "text/plain": [
              "<Figure size 500x500 with 1 Axes>"
            ],
            "image/png": "[encoded data removed]"
          },
          "metadata": {}
        }
      ],
      "source": [
        "plt.style.use(\"default\")\n",
        "plt.figure(figsize=(5,5))\n",
        "sns.barplot(x=\"Rating\", y=\"Quantity\", data=data[170:180])\n",
        "plt.title(\"Rating vs Quantity\",fontsize=15)\n",
        "plt.xlabel(\"Rating\")\n",
        "plt.ylabel(\"Quantity\")\n",
        "plt.show()"
      ]
    },
    {
      "cell_type": "code",
      "execution_count": 28,
      "id": "87469ec8",
      "metadata": {
        "execution": {
          "iopub.execute_input": "2021-08-06T11:19:27.577315Z",
          "iopub.status.busy": "2021-08-06T11:19:27.576590Z",
          "iopub.status.idle": "2021-08-06T11:19:27.579107Z",
          "shell.execute_reply": "2021-08-06T11:19:27.578475Z",
          "shell.execute_reply.started": "2021-07-23T03:30:00.521191Z"
        },
        "papermill": {
          "duration": 0.124489,
          "end_time": "2021-08-06T11:19:27.579245",
          "exception": false,
          "start_time": "2021-08-06T11:19:27.454756",
          "status": "completed"
        },
        "tags": [],
        "id": "87469ec8"
      },
      "outputs": [],
      "source": [
        "#lets find the categorialfeatures\n",
        "list_1=list(data.columns)\n"
      ]
    },
    {
      "cell_type": "code",
      "execution_count": 29,
      "id": "b70ea0c6",
      "metadata": {
        "execution": {
          "iopub.execute_input": "2021-08-06T11:19:27.830687Z",
          "iopub.status.busy": "2021-08-06T11:19:27.829878Z",
          "iopub.status.idle": "2021-08-06T11:19:27.834268Z",
          "shell.execute_reply": "2021-08-06T11:19:27.834767Z",
          "shell.execute_reply.started": "2021-07-23T03:30:00.52739Z"
        },
        "papermill": {
          "duration": 0.135697,
          "end_time": "2021-08-06T11:19:27.834958",
          "exception": false,
          "start_time": "2021-08-06T11:19:27.699261",
          "status": "completed"
        },
        "tags": [],
        "id": "b70ea0c6"
      },
      "outputs": [],
      "source": [
        "list_cate=[]\n",
        "for i in list_1:\n",
        "    if data[i].dtype=='object':\n",
        "        list_cate.append(i)\n"
      ]
    },
    {
      "cell_type": "code",
      "execution_count": 30,
      "id": "854d05f1",
      "metadata": {
        "execution": {
          "iopub.execute_input": "2021-08-06T11:19:28.082400Z",
          "iopub.status.busy": "2021-08-06T11:19:28.081736Z",
          "iopub.status.idle": "2021-08-06T11:19:28.231400Z",
          "shell.execute_reply": "2021-08-06T11:19:28.230812Z",
          "shell.execute_reply.started": "2021-07-23T03:30:00.541159Z"
        },
        "papermill": {
          "duration": 0.275041,
          "end_time": "2021-08-06T11:19:28.231543",
          "exception": false,
          "start_time": "2021-08-06T11:19:27.956502",
          "status": "completed"
        },
        "tags": [],
        "id": "854d05f1"
      },
      "outputs": [],
      "source": [
        "from sklearn.preprocessing import LabelEncoder\n",
        "le=LabelEncoder()\n"
      ]
    },
    {
      "cell_type": "code",
      "execution_count": 31,
      "id": "7c8460f3",
      "metadata": {
        "execution": {
          "iopub.execute_input": "2021-08-06T11:19:28.480520Z",
          "iopub.status.busy": "2021-08-06T11:19:28.479879Z",
          "iopub.status.idle": "2021-08-06T11:19:28.482237Z",
          "shell.execute_reply": "2021-08-06T11:19:28.482728Z",
          "shell.execute_reply.started": "2021-07-23T03:30:00.685392Z"
        },
        "papermill": {
          "duration": 0.132872,
          "end_time": "2021-08-06T11:19:28.482905",
          "exception": false,
          "start_time": "2021-08-06T11:19:28.350033",
          "status": "completed"
        },
        "tags": [],
        "id": "7c8460f3"
      },
      "outputs": [],
      "source": [
        "for i in list_cate:\n",
        "    data[i]=le.fit_transform(data[i])\n"
      ]
    },
    {
      "cell_type": "code",
      "execution_count": 32,
      "id": "6466588a",
      "metadata": {
        "execution": {
          "iopub.execute_input": "2021-08-06T11:19:28.725128Z",
          "iopub.status.busy": "2021-08-06T11:19:28.724429Z",
          "iopub.status.idle": "2021-08-06T11:19:28.752039Z",
          "shell.execute_reply": "2021-08-06T11:19:28.752547Z",
          "shell.execute_reply.started": "2021-07-23T03:30:00.699396Z"
        },
        "papermill": {
          "duration": 0.151819,
          "end_time": "2021-08-06T11:19:28.752754",
          "exception": false,
          "start_time": "2021-08-06T11:19:28.600935",
          "status": "completed"
        },
        "tags": [],
        "colab": {
          "base_uri": "https://localhost:8080/",
          "height": 523
        },
        "id": "6466588a",
        "outputId": "b7fa9819-9442-4007-c02c-4e652d31aef4"
      },
      "outputs": [
        {
          "output_type": "execute_result",
          "data": {
            "text/plain": [
              "     Invoice ID  Branch  City  Customer type  Gender  Product line  \\\n",
              "0           814       0     2              0       0             3   \n",
              "1           142       2     1              1       0             0   \n",
              "2           653       0     2              1       1             4   \n",
              "3            18       0     2              0       1             3   \n",
              "4           339       0     2              1       1             5   \n",
              "..          ...     ...   ...            ...     ...           ...   \n",
              "995         153       2     1              1       1             3   \n",
              "996         250       1     0              1       0             4   \n",
              "997         767       0     2              0       1             2   \n",
              "998         308       0     2              1       1             4   \n",
              "999         935       0     2              0       0             1   \n",
              "\n",
              "     Unit price  Quantity   Tax 5%      Total  Date  Time  Payment    cogs  \\\n",
              "0         74.69         7  26.1415   548.9715    26   146        2  522.83   \n",
              "1         15.28         5   3.8200    80.2200    87    23        0   76.40   \n",
              "2         46.33         7  16.2155   340.5255    81   155        1  324.31   \n",
              "3         58.22         8  23.2880   489.0480    19   485        2  465.76   \n",
              "4         86.31         7  30.2085   634.3785    57    29        2  604.17   \n",
              "..          ...       ...      ...        ...   ...   ...      ...     ...   \n",
              "995       40.35         1   2.0175    42.3675    21   174        2   40.35   \n",
              "996       97.38        10  48.6900  1022.4900    70   342        2  973.80   \n",
              "997       31.84         1   1.5920    33.4320    58   154        0   31.84   \n",
              "998       65.82         1   3.2910    69.1110    45   261        0   65.82   \n",
              "999       88.34         7  30.9190   649.2990    40   160        0  618.38   \n",
              "\n",
              "     gross margin percentage  gross income  Rating  \n",
              "0                   4.761905       26.1415     9.1  \n",
              "1                   4.761905        3.8200     9.6  \n",
              "2                   4.761905       16.2155     7.4  \n",
              "3                   4.761905       23.2880     8.4  \n",
              "4                   4.761905       30.2085     5.3  \n",
              "..                       ...           ...     ...  \n",
              "995                 4.761905        2.0175     6.2  \n",
              "996                 4.761905       48.6900     4.4  \n",
              "997                 4.761905        1.5920     7.7  \n",
              "998                 4.761905        3.2910     4.1  \n",
              "999                 4.761905       30.9190     6.6  \n",
              "\n",
              "[1000 rows x 17 columns]"
            ],
            "text/html": [
              "\n",
              "  <div id=\"df-1fd4586d-e1c0-4a4d-a8ff-a7026ca3c0f0\">\n",
              "    <div class=\"colab-df-container\">\n",
              "      <div>\n",
              "<style scoped>\n",
              "    .dataframe tbody tr th:only-of-type {\n",
              "        vertical-align: middle;\n",
              "    }\n",
              "\n",
              "    .dataframe tbody tr th {\n",
              "        vertical-align: top;\n",
              "    }\n",
              "\n",
              "    .dataframe thead th {\n",
              "        text-align: right;\n",
              "    }\n",
              "</style>\n",
              "<table border=\"1\" class=\"dataframe\">\n",
              "  <thead>\n",
              "    <tr style=\"text-align: right;\">\n",
              "      <th></th>\n",
              "      <th>Invoice ID</th>\n",
              "      <th>Branch</th>\n",
              "      <th>City</th>\n",
              "      <th>Customer type</th>\n",
              "      <th>Gender</th>\n",
              "      <th>Product line</th>\n",
              "      <th>Unit price</th>\n",
              "      <th>Quantity</th>\n",
              "      <th>Tax 5%</th>\n",
              "      <th>Total</th>\n",
              "      <th>Date</th>\n",
              "      <th>Time</th>\n",
              "      <th>Payment</th>\n",
              "      <th>cogs</th>\n",
              "      <th>gross margin percentage</th>\n",
              "      <th>gross income</th>\n",
              "      <th>Rating</th>\n",
              "    </tr>\n",
              "  </thead>\n",
              "  <tbody>\n",
              "    <tr>\n",
              "      <th>0</th>\n",
              "      <td>814</td>\n",
              "      <td>0</td>\n",
              "      <td>2</td>\n",
              "      <td>0</td>\n",
              "      <td>0</td>\n",
              "      <td>3</td>\n",
              "      <td>74.69</td>\n",
              "      <td>7</td>\n",
              "      <td>26.1415</td>\n",
              "      <td>548.9715</td>\n",
              "      <td>26</td>\n",
              "      <td>146</td>\n",
              "      <td>2</td>\n",
              "      <td>522.83</td>\n",
              "      <td>4.761905</td>\n",
              "      <td>26.1415</td>\n",
              "      <td>9.1</td>\n",
              "    </tr>\n",
              "    <tr>\n",
              "      <th>1</th>\n",
              "      <td>142</td>\n",
              "      <td>2</td>\n",
              "      <td>1</td>\n",
              "      <td>1</td>\n",
              "      <td>0</td>\n",
              "      <td>0</td>\n",
              "      <td>15.28</td>\n",
              "      <td>5</td>\n",
              "      <td>3.8200</td>\n",
              "      <td>80.2200</td>\n",
              "      <td>87</td>\n",
              "      <td>23</td>\n",
              "      <td>0</td>\n",
              "      <td>76.40</td>\n",
              "      <td>4.761905</td>\n",
              "      <td>3.8200</td>\n",
              "      <td>9.6</td>\n",
              "    </tr>\n",
              "    <tr>\n",
              "      <th>2</th>\n",
              "      <td>653</td>\n",
              "      <td>0</td>\n",
              "      <td>2</td>\n",
              "      <td>1</td>\n",
              "      <td>1</td>\n",
              "      <td>4</td>\n",
              "      <td>46.33</td>\n",
              "      <td>7</td>\n",
              "      <td>16.2155</td>\n",
              "      <td>340.5255</td>\n",
              "      <td>81</td>\n",
              "      <td>155</td>\n",
              "      <td>1</td>\n",
              "      <td>324.31</td>\n",
              "      <td>4.761905</td>\n",
              "      <td>16.2155</td>\n",
              "      <td>7.4</td>\n",
              "    </tr>\n",
              "    <tr>\n",
              "      <th>3</th>\n",
              "      <td>18</td>\n",
              "      <td>0</td>\n",
              "      <td>2</td>\n",
              "      <td>0</td>\n",
              "      <td>1</td>\n",
              "      <td>3</td>\n",
              "      <td>58.22</td>\n",
              "      <td>8</td>\n",
              "      <td>23.2880</td>\n",
              "      <td>489.0480</td>\n",
              "      <td>19</td>\n",
              "      <td>485</td>\n",
              "      <td>2</td>\n",
              "      <td>465.76</td>\n",
              "      <td>4.761905</td>\n",
              "      <td>23.2880</td>\n",
              "      <td>8.4</td>\n",
              "    </tr>\n",
              "    <tr>\n",
              "      <th>4</th>\n",
              "      <td>339</td>\n",
              "      <td>0</td>\n",
              "      <td>2</td>\n",
              "      <td>1</td>\n",
              "      <td>1</td>\n",
              "      <td>5</td>\n",
              "      <td>86.31</td>\n",
              "      <td>7</td>\n",
              "      <td>30.2085</td>\n",
              "      <td>634.3785</td>\n",
              "      <td>57</td>\n",
              "      <td>29</td>\n",
              "      <td>2</td>\n",
              "      <td>604.17</td>\n",
              "      <td>4.761905</td>\n",
              "      <td>30.2085</td>\n",
              "      <td>5.3</td>\n",
              "    </tr>\n",
              "    <tr>\n",
              "      <th>...</th>\n",
              "      <td>...</td>\n",
              "      <td>...</td>\n",
              "      <td>...</td>\n",
              "      <td>...</td>\n",
              "      <td>...</td>\n",
              "      <td>...</td>\n",
              "      <td>...</td>\n",
              "      <td>...</td>\n",
              "      <td>...</td>\n",
              "      <td>...</td>\n",
              "      <td>...</td>\n",
              "      <td>...</td>\n",
              "      <td>...</td>\n",
              "      <td>...</td>\n",
              "      <td>...</td>\n",
              "      <td>...</td>\n",
              "      <td>...</td>\n",
              "    </tr>\n",
              "    <tr>\n",
              "      <th>995</th>\n",
              "      <td>153</td>\n",
              "      <td>2</td>\n",
              "      <td>1</td>\n",
              "      <td>1</td>\n",
              "      <td>1</td>\n",
              "      <td>3</td>\n",
              "      <td>40.35</td>\n",
              "      <td>1</td>\n",
              "      <td>2.0175</td>\n",
              "      <td>42.3675</td>\n",
              "      <td>21</td>\n",
              "      <td>174</td>\n",
              "      <td>2</td>\n",
              "      <td>40.35</td>\n",
              "      <td>4.761905</td>\n",
              "      <td>2.0175</td>\n",
              "      <td>6.2</td>\n",
              "    </tr>\n",
              "    <tr>\n",
              "      <th>996</th>\n",
              "      <td>250</td>\n",
              "      <td>1</td>\n",
              "      <td>0</td>\n",
              "      <td>1</td>\n",
              "      <td>0</td>\n",
              "      <td>4</td>\n",
              "      <td>97.38</td>\n",
              "      <td>10</td>\n",
              "      <td>48.6900</td>\n",
              "      <td>1022.4900</td>\n",
              "      <td>70</td>\n",
              "      <td>342</td>\n",
              "      <td>2</td>\n",
              "      <td>973.80</td>\n",
              "      <td>4.761905</td>\n",
              "      <td>48.6900</td>\n",
              "      <td>4.4</td>\n",
              "    </tr>\n",
              "    <tr>\n",
              "      <th>997</th>\n",
              "      <td>767</td>\n",
              "      <td>0</td>\n",
              "      <td>2</td>\n",
              "      <td>0</td>\n",
              "      <td>1</td>\n",
              "      <td>2</td>\n",
              "      <td>31.84</td>\n",
              "      <td>1</td>\n",
              "      <td>1.5920</td>\n",
              "      <td>33.4320</td>\n",
              "      <td>58</td>\n",
              "      <td>154</td>\n",
              "      <td>0</td>\n",
              "      <td>31.84</td>\n",
              "      <td>4.761905</td>\n",
              "      <td>1.5920</td>\n",
              "      <td>7.7</td>\n",
              "    </tr>\n",
              "    <tr>\n",
              "      <th>998</th>\n",
              "      <td>308</td>\n",
              "      <td>0</td>\n",
              "      <td>2</td>\n",
              "      <td>1</td>\n",
              "      <td>1</td>\n",
              "      <td>4</td>\n",
              "      <td>65.82</td>\n",
              "      <td>1</td>\n",
              "      <td>3.2910</td>\n",
              "      <td>69.1110</td>\n",
              "      <td>45</td>\n",
              "      <td>261</td>\n",
              "      <td>0</td>\n",
              "      <td>65.82</td>\n",
              "      <td>4.761905</td>\n",
              "      <td>3.2910</td>\n",
              "      <td>4.1</td>\n",
              "    </tr>\n",
              "    <tr>\n",
              "      <th>999</th>\n",
              "      <td>935</td>\n",
              "      <td>0</td>\n",
              "      <td>2</td>\n",
              "      <td>0</td>\n",
              "      <td>0</td>\n",
              "      <td>1</td>\n",
              "      <td>88.34</td>\n",
              "      <td>7</td>\n",
              "      <td>30.9190</td>\n",
              "      <td>649.2990</td>\n",
              "      <td>40</td>\n",
              "      <td>160</td>\n",
              "      <td>0</td>\n",
              "      <td>618.38</td>\n",
              "      <td>4.761905</td>\n",
              "      <td>30.9190</td>\n",
              "      <td>6.6</td>\n",
              "    </tr>\n",
              "  </tbody>\n",
              "</table>\n",
              "<p>1000 rows × 17 columns</p>\n",
              "</div>\n",
              "      <button class=\"colab-df-convert\" onclick=\"convertToInteractive('df-1fd4586d-e1c0-4a4d-a8ff-a7026ca3c0f0')\"\n",
              "              title=\"Convert this dataframe to an interactive table.\"\n",
              "              style=\"display:none;\">\n",
              "        \n",
              "  <svg xmlns=\"http://www.w3.org/2000/svg\" height=\"24px\"viewBox=\"0 0 24 24\"\n",
              "       width=\"24px\">\n",
              "    <path d=\"M0 0h24v24H0V0z\" fill=\"none\"/>\n",
              "    <path d=\"M18.56 5.44l.94 2.06.94-2.06 2.06-.94-2.06-.94-.94-2.06-.94 2.06-2.06.94zm-11 1L8.5 8.5l.94-2.06 2.06-.94-2.06-.94L8.5 2.5l-.94 2.06-2.06.94zm10 10l.94 2.06.94-2.06 2.06-.94-2.06-.94-.94-2.06-.94 2.06-2.06.94z\"/><path d=\"M17.41 7.96l-1.37-1.37c-.4-.4-.92-.59-1.43-.59-.52 0-1.04.2-1.43.59L10.3 9.45l-7.72 7.72c-.78.78-.78 2.05 0 2.83L4 21.41c.39.39.9.59 1.41.59.51 0 1.02-.2 1.41-.59l7.78-7.78 2.81-2.81c.8-.78.8-2.07 0-2.86zM5.41 20L4 18.59l7.72-7.72 1.47 1.35L5.41 20z\"/>\n",
              "  </svg>\n",
              "      </button>\n",
              "      \n",
              "  <style>\n",
              "    .colab-df-container {\n",
              "      display:flex;\n",
              "      flex-wrap:wrap;\n",
              "      gap: 12px;\n",
              "    }\n",
              "\n",
              "    .colab-df-convert {\n",
              "      background-color: #E8F0FE;\n",
              "      border: none;\n",
              "      border-radius: 50%;\n",
              "      cursor: pointer;\n",
              "      display: none;\n",
              "      fill: #1967D2;\n",
              "      height: 32px;\n",
              "      padding: 0 0 0 0;\n",
              "      width: 32px;\n",
              "    }\n",
              "\n",
              "    .colab-df-convert:hover {\n",
              "      background-color: #E2EBFA;\n",
              "      box-shadow: 0px 1px 2px rgba(60, 64, 67, 0.3), 0px 1px 3px 1px rgba(60, 64, 67, 0.15);\n",
              "      fill: #174EA6;\n",
              "    }\n",
              "\n",
              "    [theme=dark] .colab-df-convert {\n",
              "      background-color: #3B4455;\n",
              "      fill: #D2E3FC;\n",
              "    }\n",
              "\n",
              "    [theme=dark] .colab-df-convert:hover {\n",
              "      background-color: #434B5C;\n",
              "      box-shadow: 0px 1px 3px 1px rgba(0, 0, 0, 0.15);\n",
              "      filter: drop-shadow(0px 1px 2px rgba(0, 0, 0, 0.3));\n",
              "      fill: #FFFFFF;\n",
              "    }\n",
              "  </style>\n",
              "\n",
              "      <script>\n",
              "        const buttonEl =\n",
              "          document.querySelector('#df-1fd4586d-e1c0-4a4d-a8ff-a7026ca3c0f0 button.colab-df-convert');\n",
              "        buttonEl.style.display =\n",
              "          google.colab.kernel.accessAllowed ? 'block' : 'none';\n",
              "\n",
              "        async function convertToInteractive(key) {\n",
              "          const element = document.querySelector('#df-1fd4586d-e1c0-4a4d-a8ff-a7026ca3c0f0');\n",
              "          const dataTable =\n",
              "            await google.colab.kernel.invokeFunction('convertToInteractive',\n",
              "                                                     [key], {});\n",
              "          if (!dataTable) return;\n",
              "\n",
              "          const docLinkHtml = 'Like what you see? Visit the ' +\n",
              "            '<a target=\"_blank\" href=https://colab.research.google.com/notebooks/data_table.ipynb>data table notebook</a>'\n",
              "            + ' to learn more about interactive tables.';\n",
              "          element.innerHTML = '';\n",
              "          dataTable['output_type'] = 'display_data';\n",
              "          await google.colab.output.renderOutput(dataTable, element);\n",
              "          const docLink = document.createElement('div');\n",
              "          docLink.innerHTML = docLinkHtml;\n",
              "          element.appendChild(docLink);\n",
              "        }\n",
              "      </script>\n",
              "    </div>\n",
              "  </div>\n",
              "  "
            ]
          },
          "metadata": {},
          "execution_count": 32
        }
      ],
      "source": [
        "data"
      ]
    },
    {
      "cell_type": "code",
      "execution_count": 33,
      "id": "9ddbd2a8",
      "metadata": {
        "execution": {
          "iopub.execute_input": "2021-08-06T11:19:28.993371Z",
          "iopub.status.busy": "2021-08-06T11:19:28.992622Z",
          "iopub.status.idle": "2021-08-06T11:19:28.998082Z",
          "shell.execute_reply": "2021-08-06T11:19:28.998602Z",
          "shell.execute_reply.started": "2021-07-23T03:30:00.744156Z"
        },
        "papermill": {
          "duration": 0.127988,
          "end_time": "2021-08-06T11:19:28.998845",
          "exception": false,
          "start_time": "2021-08-06T11:19:28.870857",
          "status": "completed"
        },
        "tags": [],
        "id": "9ddbd2a8"
      },
      "outputs": [],
      "source": [
        "y=data['Gender']\n",
        "x=data.drop('Gender',axis=1)\n"
      ]
    },
    {
      "cell_type": "markdown",
      "id": "7f6b10e7",
      "metadata": {
        "papermill": {
          "duration": 0.117716,
          "end_time": "2021-08-06T11:19:29.238167",
          "exception": false,
          "start_time": "2021-08-06T11:19:29.120451",
          "status": "completed"
        },
        "tags": [],
        "id": "7f6b10e7"
      },
      "source": [
        "# **Training dan Testing Data**"
      ]
    },
    {
      "cell_type": "code",
      "execution_count": 34,
      "id": "6372c614",
      "metadata": {
        "execution": {
          "iopub.execute_input": "2021-08-06T11:19:29.480126Z",
          "iopub.status.busy": "2021-08-06T11:19:29.479409Z",
          "iopub.status.idle": "2021-08-06T11:19:29.542419Z",
          "shell.execute_reply": "2021-08-06T11:19:29.541746Z",
          "shell.execute_reply.started": "2021-07-23T03:30:00.752435Z"
        },
        "papermill": {
          "duration": 0.185594,
          "end_time": "2021-08-06T11:19:29.542555",
          "exception": false,
          "start_time": "2021-08-06T11:19:29.356961",
          "status": "completed"
        },
        "tags": [],
        "id": "6372c614"
      },
      "outputs": [],
      "source": [
        "from sklearn.model_selection import train_test_split\n",
        "x_train,x_test,y_train,y_test=train_test_split(x,y,random_state=0,test_size=0.2)\n"
      ]
    },
    {
      "cell_type": "code",
      "execution_count": 35,
      "id": "f528a04f",
      "metadata": {
        "execution": {
          "iopub.execute_input": "2021-08-06T11:19:29.785118Z",
          "iopub.status.busy": "2021-08-06T11:19:29.784367Z",
          "iopub.status.idle": "2021-08-06T11:19:29.787208Z",
          "shell.execute_reply": "2021-08-06T11:19:29.787687Z",
          "shell.execute_reply.started": "2021-07-23T03:30:00.831036Z"
        },
        "papermill": {
          "duration": 0.12668,
          "end_time": "2021-08-06T11:19:29.787875",
          "exception": false,
          "start_time": "2021-08-06T11:19:29.661195",
          "status": "completed"
        },
        "tags": [],
        "colab": {
          "base_uri": "https://localhost:8080/"
        },
        "id": "f528a04f",
        "outputId": "cf9d5ad5-f831-42c7-c7c1-9a5194d152ea"
      },
      "outputs": [
        {
          "output_type": "stream",
          "name": "stdout",
          "text": [
            "800\n",
            "200\n",
            "800\n",
            "200\n"
          ]
        }
      ],
      "source": [
        "print(len(x_train))\n",
        "print(len(x_test))\n",
        "print(len(y_train))\n",
        "print(len(y_test))\n"
      ]
    },
    {
      "cell_type": "markdown",
      "id": "43fa3d0a",
      "metadata": {
        "papermill": {
          "duration": 0.121659,
          "end_time": "2021-08-06T11:19:31.074590",
          "exception": false,
          "start_time": "2021-08-06T11:19:30.952931",
          "status": "completed"
        },
        "tags": [],
        "id": "43fa3d0a"
      },
      "source": [
        "# **Modeling**\n",
        "\n",
        "---\n",
        "\n",
        "\n",
        "**1. SVM**\n",
        "\n",
        "Dalam pembelajaran mesin, support-vector machines (SVM) adalah model pembelajaran terawasi dengan algoritme pembelajaran terkait yang menganalisis data untuk klasifikasi dan analisis regresi\n"
      ]
    },
    {
      "cell_type": "code",
      "execution_count": 36,
      "id": "bca5d156",
      "metadata": {
        "execution": {
          "iopub.execute_input": "2021-08-06T11:19:31.318988Z",
          "iopub.status.busy": "2021-08-06T11:19:31.318127Z",
          "iopub.status.idle": "2021-08-06T11:19:31.364315Z",
          "shell.execute_reply": "2021-08-06T11:19:31.363792Z",
          "shell.execute_reply.started": "2021-07-23T03:30:01.104248Z"
        },
        "papermill": {
          "duration": 0.168538,
          "end_time": "2021-08-06T11:19:31.364458",
          "exception": false,
          "start_time": "2021-08-06T11:19:31.195920",
          "status": "completed"
        },
        "tags": [],
        "colab": {
          "base_uri": "https://localhost:8080/"
        },
        "id": "bca5d156",
        "outputId": "345a497a-f673-46ea-f697-3ac55b5624a0"
      },
      "outputs": [
        {
          "output_type": "execute_result",
          "data": {
            "text/plain": [
              "SVC()"
            ]
          },
          "metadata": {},
          "execution_count": 36
        }
      ],
      "source": [
        "from sklearn.svm import SVC\n",
        "\n",
        "svc = SVC()\n",
        "svc.fit(x_train, y_train)\n"
      ]
    },
    {
      "cell_type": "code",
      "execution_count": 37,
      "id": "cc203693",
      "metadata": {
        "execution": {
          "iopub.execute_input": "2021-08-06T11:19:31.613951Z",
          "iopub.status.busy": "2021-08-06T11:19:31.613010Z",
          "iopub.status.idle": "2021-08-06T11:19:31.661205Z",
          "shell.execute_reply": "2021-08-06T11:19:31.660272Z",
          "shell.execute_reply.started": "2021-07-23T03:30:01.162835Z"
        },
        "papermill": {
          "duration": 0.177143,
          "end_time": "2021-08-06T11:19:31.661406",
          "exception": false,
          "start_time": "2021-08-06T11:19:31.484263",
          "status": "completed"
        },
        "tags": [],
        "colab": {
          "base_uri": "https://localhost:8080/"
        },
        "id": "cc203693",
        "outputId": "f8a78e83-c0b0-45e8-e87d-d2c1de3d0ec2"
      },
      "outputs": [
        {
          "output_type": "stream",
          "name": "stdout",
          "text": [
            "Classification Report is:\n",
            "               precision    recall  f1-score   support\n",
            "\n",
            "           0       0.45      0.49      0.47       100\n",
            "           1       0.44      0.40      0.42       100\n",
            "\n",
            "    accuracy                           0.45       200\n",
            "   macro avg       0.44      0.45      0.44       200\n",
            "weighted avg       0.44      0.45      0.44       200\n",
            "\n",
            "Confusion Matrix:\n",
            " [[49 51]\n",
            " [60 40]]\n",
            "Training Score:\n",
            " 55.50000000000001\n"
          ]
        }
      ],
      "source": [
        "y_pred=svc.predict(x_test)\n",
        "from sklearn.metrics import accuracy_score,classification_report,confusion_matrix\n",
        "from sklearn.metrics import r2_score\n",
        "from sklearn.metrics import mean_squared_error\n",
        "print(\"Classification Report is:\\n\",classification_report(y_test,y_pred))\n",
        "print(\"Confusion Matrix:\\n\",confusion_matrix(y_test,y_pred))\n",
        "print(\"Training Score:\\n\",svc.score(x_train,y_train)*100)\n"
      ]
    },
    {
      "cell_type": "markdown",
      "id": "51529a5e",
      "metadata": {
        "papermill": {
          "duration": 0.119496,
          "end_time": "2021-08-06T11:19:31.904495",
          "exception": false,
          "start_time": "2021-08-06T11:19:31.784999",
          "status": "completed"
        },
        "tags": [],
        "id": "51529a5e"
      },
      "source": [
        "**2. Naive Bayes**\n",
        "\n",
        "Ini adalah teknik klasifikasi berdasarkan Teorema Bayes dengan asumsi independensi antar prediktor. Secara sederhana, pengklasifikasi Naive Bayes mengasumsikan bahwa keberadaan fitur tertentu di kelas tidak terkait dengan keberadaan fitur lainnya.."
      ]
    },
    {
      "cell_type": "code",
      "execution_count": 38,
      "id": "3f0db608",
      "metadata": {
        "execution": {
          "iopub.execute_input": "2021-08-06T11:19:32.154377Z",
          "iopub.status.busy": "2021-08-06T11:19:32.153647Z",
          "iopub.status.idle": "2021-08-06T11:19:32.165648Z",
          "shell.execute_reply": "2021-08-06T11:19:32.165030Z",
          "shell.execute_reply.started": "2021-07-23T03:30:01.221459Z"
        },
        "papermill": {
          "duration": 0.13883,
          "end_time": "2021-08-06T11:19:32.165798",
          "exception": false,
          "start_time": "2021-08-06T11:19:32.026968",
          "status": "completed"
        },
        "tags": [],
        "colab": {
          "base_uri": "https://localhost:8080/"
        },
        "id": "3f0db608",
        "outputId": "bab49a03-17e9-4955-f169-91156022f9c2"
      },
      "outputs": [
        {
          "output_type": "execute_result",
          "data": {
            "text/plain": [
              "GaussianNB()"
            ]
          },
          "metadata": {},
          "execution_count": 38
        }
      ],
      "source": [
        "from sklearn.naive_bayes import GaussianNB\n",
        "gnb = GaussianNB()\n",
        "gnb.fit(x_train,y_train)\n"
      ]
    },
    {
      "cell_type": "code",
      "execution_count": 39,
      "id": "aaf6cb03",
      "metadata": {
        "execution": {
          "iopub.execute_input": "2021-08-06T11:19:32.417616Z",
          "iopub.status.busy": "2021-08-06T11:19:32.416799Z",
          "iopub.status.idle": "2021-08-06T11:19:32.432615Z",
          "shell.execute_reply": "2021-08-06T11:19:32.431945Z",
          "shell.execute_reply.started": "2021-07-23T03:30:01.244217Z"
        },
        "papermill": {
          "duration": 0.145078,
          "end_time": "2021-08-06T11:19:32.432768",
          "exception": false,
          "start_time": "2021-08-06T11:19:32.287690",
          "status": "completed"
        },
        "tags": [],
        "colab": {
          "base_uri": "https://localhost:8080/"
        },
        "id": "aaf6cb03",
        "outputId": "9d78b6c3-f266-423f-e64c-7f5b2a88bdd7"
      },
      "outputs": [
        {
          "output_type": "stream",
          "name": "stdout",
          "text": [
            "Classification Report is:\n",
            "               precision    recall  f1-score   support\n",
            "\n",
            "           0       0.51      0.35      0.41       100\n",
            "           1       0.50      0.66      0.57       100\n",
            "\n",
            "    accuracy                           0.51       200\n",
            "   macro avg       0.51      0.51      0.49       200\n",
            "weighted avg       0.51      0.51      0.49       200\n",
            "\n",
            "Confusion Matrix:\n",
            " [[35 65]\n",
            " [34 66]]\n",
            "Training Score:\n",
            " 55.125\n"
          ]
        }
      ],
      "source": [
        "y_pred=gnb.predict(x_test)\n",
        "from sklearn.metrics import accuracy_score,classification_report,confusion_matrix\n",
        "from sklearn.metrics import r2_score\n",
        "from sklearn.metrics import mean_squared_error\n",
        "print(\"Classification Report is:\\n\",classification_report(y_test,y_pred))\n",
        "print(\"Confusion Matrix:\\n\",confusion_matrix(y_test,y_pred))\n",
        "print(\"Training Score:\\n\",gnb.score(x_train,y_train)*100)\n"
      ]
    },
    {
      "cell_type": "markdown",
      "source": [
        "**4. DECISION TREE CLASSIFIER**\n",
        "\n",
        "Decision trees menggunakan beberapa algoritma untuk memutuskan untuk membagi node menjadi dua atau lebih sub-node. Penciptaan sub-node meningkatkan homogenitas sub-node yang dihasilkan. Pohon keputusan membagi node pada semua variabel yang tersedia dan kemudian memilih pemisahan yang menghasilkan sub-node yang paling homogen.\n"
      ],
      "metadata": {
        "id": "A10HqBI6sLzp"
      },
      "id": "A10HqBI6sLzp"
    },
    {
      "cell_type": "code",
      "source": [
        "from sklearn.tree import DecisionTreeClassifier\n",
        "dtree = DecisionTreeClassifier(max_depth=6, random_state=123,criterion='entropy')\n",
        "\n",
        "dtree.fit(x_train,y_train)"
      ],
      "metadata": {
        "colab": {
          "base_uri": "https://localhost:8080/"
        },
        "id": "EPnEkCZDsK8w",
        "outputId": "a0376c42-4d23-4585-fe45-30ffcbb3f34c"
      },
      "id": "EPnEkCZDsK8w",
      "execution_count": 40,
      "outputs": [
        {
          "output_type": "execute_result",
          "data": {
            "text/plain": [
              "DecisionTreeClassifier(criterion='entropy', max_depth=6, random_state=123)"
            ]
          },
          "metadata": {},
          "execution_count": 40
        }
      ]
    },
    {
      "cell_type": "code",
      "source": [
        "y_pred=dtree.predict(x_test)\n",
        "from sklearn.metrics import accuracy_score,classification_report,confusion_matrix\n",
        "from sklearn.metrics import r2_score\n",
        "from sklearn.metrics import mean_squared_error\n",
        "print(\"Classification Report is:\\n\",classification_report(y_test,y_pred))\n",
        "print(\"Confusion Matrix:\\n\",confusion_matrix(y_test,y_pred))\n",
        "print(\"Training Score:\\n\",dtree.score(x_train,y_train)*100)"
      ],
      "metadata": {
        "colab": {
          "base_uri": "https://localhost:8080/"
        },
        "id": "6iVLxoL0sh_c",
        "outputId": "88b7fc64-03df-49f6-8498-04e32a70cb5f"
      },
      "id": "6iVLxoL0sh_c",
      "execution_count": 41,
      "outputs": [
        {
          "output_type": "stream",
          "name": "stdout",
          "text": [
            "Classification Report is:\n",
            "               precision    recall  f1-score   support\n",
            "\n",
            "           0       0.52      0.79      0.63       100\n",
            "           1       0.56      0.27      0.36       100\n",
            "\n",
            "    accuracy                           0.53       200\n",
            "   macro avg       0.54      0.53      0.50       200\n",
            "weighted avg       0.54      0.53      0.50       200\n",
            "\n",
            "Confusion Matrix:\n",
            " [[79 21]\n",
            " [73 27]]\n",
            "Training Score:\n",
            " 63.87500000000001\n"
          ]
        }
      ]
    },
    {
      "cell_type": "markdown",
      "id": "a6f27987",
      "metadata": {
        "papermill": {
          "duration": 0.121203,
          "end_time": "2021-08-06T11:19:33.488193",
          "exception": false,
          "start_time": "2021-08-06T11:19:33.366990",
          "status": "completed"
        },
        "tags": [],
        "id": "a6f27987"
      },
      "source": [
        "**5.Random Forest Classifier**\n",
        "\n",
        "Pengklasifikasi hutan acak. Hutan acak adalah estimator meta yang cocok dengan sejumlah pengklasifikasi pohon keputusan pada berbagai sub-sampel dari kumpulan data dan menggunakan rata-rata untuk meningkatkan akurasi prediksi dan kontrol over-fitting.\n",
        "\n"
      ]
    },
    {
      "cell_type": "code",
      "execution_count": 42,
      "id": "0bf4c478",
      "metadata": {
        "execution": {
          "iopub.execute_input": "2021-08-06T11:19:33.738794Z",
          "iopub.status.busy": "2021-08-06T11:19:33.738066Z",
          "iopub.status.idle": "2021-08-06T11:19:34.101007Z",
          "shell.execute_reply": "2021-08-06T11:19:34.099965Z",
          "shell.execute_reply.started": "2021-07-23T03:30:01.340163Z"
        },
        "papermill": {
          "duration": 0.488989,
          "end_time": "2021-08-06T11:19:34.101186",
          "exception": false,
          "start_time": "2021-08-06T11:19:33.612197",
          "status": "completed"
        },
        "tags": [],
        "colab": {
          "base_uri": "https://localhost:8080/"
        },
        "id": "0bf4c478",
        "outputId": "c1f4f23d-7b1e-4f10-e217-c1708462ce3e"
      },
      "outputs": [
        {
          "output_type": "execute_result",
          "data": {
            "text/plain": [
              "RandomForestClassifier()"
            ]
          },
          "metadata": {},
          "execution_count": 42
        }
      ],
      "source": [
        "from sklearn.ensemble import RandomForestClassifier\n",
        "rfc=RandomForestClassifier()\n",
        "rfc.fit(x_train,y_train)\n"
      ]
    },
    {
      "cell_type": "code",
      "execution_count": 43,
      "id": "1067fa3b",
      "metadata": {
        "execution": {
          "iopub.execute_input": "2021-08-06T11:19:34.358414Z",
          "iopub.status.busy": "2021-08-06T11:19:34.357318Z",
          "iopub.status.idle": "2021-08-06T11:19:34.408648Z",
          "shell.execute_reply": "2021-08-06T11:19:34.407716Z",
          "shell.execute_reply.started": "2021-07-23T03:30:01.712819Z"
        },
        "papermill": {
          "duration": 0.183852,
          "end_time": "2021-08-06T11:19:34.408848",
          "exception": false,
          "start_time": "2021-08-06T11:19:34.224996",
          "status": "completed"
        },
        "tags": [],
        "colab": {
          "base_uri": "https://localhost:8080/"
        },
        "id": "1067fa3b",
        "outputId": "0f587ecc-aa67-49a6-8dae-e14fcfe1c3ef"
      },
      "outputs": [
        {
          "output_type": "stream",
          "name": "stdout",
          "text": [
            "Classification Report is:\n",
            "               precision    recall  f1-score   support\n",
            "\n",
            "           0       0.51      0.56      0.54       100\n",
            "           1       0.52      0.47      0.49       100\n",
            "\n",
            "    accuracy                           0.52       200\n",
            "   macro avg       0.52      0.52      0.51       200\n",
            "weighted avg       0.52      0.52      0.51       200\n",
            "\n",
            "Confusion Matrix:\n",
            " [[56 44]\n",
            " [53 47]]\n",
            "Training Score:\n",
            " 100.0\n"
          ]
        }
      ],
      "source": [
        "y_pred=rfc.predict(x_test)\n",
        "from sklearn.metrics import accuracy_score,classification_report,confusion_matrix\n",
        "from sklearn.metrics import r2_score\n",
        "from sklearn.metrics import mean_squared_error\n",
        "print(\"Classification Report is:\\n\",classification_report(y_test,y_pred))\n",
        "print(\"Confusion Matrix:\\n\",confusion_matrix(y_test,y_pred))\n",
        "print(\"Training Score:\\n\",rfc.score(x_train,y_train)*100)\n"
      ]
    },
    {
      "cell_type": "markdown",
      "id": "df0650b4",
      "metadata": {
        "papermill": {
          "duration": 0.126594,
          "end_time": "2021-08-06T11:19:39.840204",
          "exception": false,
          "start_time": "2021-08-06T11:19:39.713610",
          "status": "completed"
        },
        "tags": [],
        "id": "df0650b4"
      },
      "source": [
        "**Kesimpulan :**\n",
        "  \n",
        "Berikut Perbandingan Akurasi yang dapat.\n",
        "\n",
        "SVM = 55.50 %\n",
        "\n",
        "Naiye Bayes = 55.10 %\n",
        "\n",
        "Decission Tree = 63.87 %\n",
        "\n",
        "Random Forest Classifier = 100 %\n",
        "\n",
        "Kami mendapat akurasi yang baik sekitar 100% menggunakan Random Forest Classifier yang cukup baik untuk dataset yang diberikan.\n",
        "\n",
        "\n",
        "\n",
        "\n",
        "\n",
        "\n",
        "\n",
        "\n",
        "\n"
      ]
    },
    {
      "cell_type": "code",
      "source": [],
      "metadata": {
        "id": "8z3hurhLtpfC"
      },
      "id": "8z3hurhLtpfC",
      "execution_count": null,
      "outputs": []
    }
  ],
  "metadata": {
    "kernelspec": {
      "display_name": "Python 3",
      "language": "python",
      "name": "python3"
    },
    "language_info": {
      "codemirror_mode": {
        "name": "ipython",
        "version": 3
      },
      "file_extension": ".py",
      "mimetype": "text/x-python",
      "name": "python",
      "nbconvert_exporter": "python",
      "pygments_lexer": "ipython3",
      "version": "3.7.10"
    },
    "papermill": {
      "default_parameters": {},
      "duration": 58.964103,
      "end_time": "2021-08-06T11:19:42.135767",
      "environment_variables": {},
      "exception": null,
      "input_path": "__notebook__.ipynb",
      "output_path": "__notebook__.ipynb",
      "parameters": {},
      "start_time": "2021-08-06T11:18:43.171664",
      "version": "2.3.3"
    },
    "colab": {
      "provenance": []
    }
  },
  "nbformat": 4,
  "nbformat_minor": 5
}